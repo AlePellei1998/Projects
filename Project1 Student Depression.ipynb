{
 "cells": [
  {
   "cell_type": "markdown",
   "metadata": {},
   "source": [
    "# Depression among Indian students"
   ]
  },
  {
   "cell_type": "code",
   "execution_count": 1,
   "metadata": {},
   "outputs": [
    {
     "name": "stderr",
     "output_type": "stream",
     "text": [
      "/opt/anaconda3/lib/python3.8/site-packages/pandas/core/computation/expressions.py:20: UserWarning: Pandas requires version '2.7.3' or newer of 'numexpr' (version '2.7.1' currently installed).\n",
      "  from pandas.core.computation.check import NUMEXPR_INSTALLED\n"
     ]
    }
   ],
   "source": [
    "import pandas as pd\n",
    "import numpy as np\n",
    "import matplotlib.pyplot as plt\n",
    "import seaborn as sns\n",
    "import plotly.express as px\n",
    "%matplotlib inline"
   ]
  },
  {
   "cell_type": "code",
   "execution_count": 3,
   "metadata": {},
   "outputs": [],
   "source": [
    "df = pd.read_csv(\"student_depression_dataset.csv\")"
   ]
  },
  {
   "cell_type": "markdown",
   "metadata": {},
   "source": [
    "### Exploratory Data Analysis"
   ]
  },
  {
   "cell_type": "code",
   "execution_count": 4,
   "metadata": {
    "scrolled": true
   },
   "outputs": [
    {
     "name": "stdout",
     "output_type": "stream",
     "text": [
      "<class 'pandas.core.frame.DataFrame'>\n",
      "RangeIndex: 27901 entries, 0 to 27900\n",
      "Data columns (total 18 columns):\n",
      " #   Column                                 Non-Null Count  Dtype  \n",
      "---  ------                                 --------------  -----  \n",
      " 0   id                                     27901 non-null  int64  \n",
      " 1   Gender                                 27901 non-null  object \n",
      " 2   Age                                    27901 non-null  float64\n",
      " 3   City                                   27901 non-null  object \n",
      " 4   Profession                             27901 non-null  object \n",
      " 5   Academic Pressure                      27901 non-null  float64\n",
      " 6   Work Pressure                          27901 non-null  float64\n",
      " 7   CGPA                                   27901 non-null  float64\n",
      " 8   Study Satisfaction                     27901 non-null  float64\n",
      " 9   Job Satisfaction                       27901 non-null  float64\n",
      " 10  Sleep Duration                         27901 non-null  object \n",
      " 11  Dietary Habits                         27901 non-null  object \n",
      " 12  Degree                                 27901 non-null  object \n",
      " 13  Have you ever had suicidal thoughts ?  27901 non-null  object \n",
      " 14  Work/Study Hours                       27901 non-null  float64\n",
      " 15  Financial Stress                       27901 non-null  object \n",
      " 16  Family History of Mental Illness       27901 non-null  object \n",
      " 17  Depression                             27901 non-null  int64  \n",
      "dtypes: float64(7), int64(2), object(9)\n",
      "memory usage: 3.8+ MB\n"
     ]
    },
    {
     "data": {
      "text/plain": [
       "None"
      ]
     },
     "metadata": {},
     "output_type": "display_data"
    },
    {
     "data": {
      "text/plain": [
       "(27901, 18)"
      ]
     },
     "metadata": {},
     "output_type": "display_data"
    }
   ],
   "source": [
    "display(df.info(verbose=True, show_counts=True))\n",
    "display(df.shape)"
   ]
  },
  {
   "cell_type": "code",
   "execution_count": null,
   "metadata": {},
   "outputs": [],
   "source": [
    "df.head()"
   ]
  },
  {
   "cell_type": "code",
   "execution_count": null,
   "metadata": {
    "scrolled": true
   },
   "outputs": [],
   "source": [
    "# there are no np.NaN values\n",
    "df.isnull().sum()"
   ]
  },
  {
   "cell_type": "code",
   "execution_count": null,
   "metadata": {},
   "outputs": [],
   "source": [
    "# there are no duplicates\n",
    "df[df.duplicated()]"
   ]
  },
  {
   "cell_type": "code",
   "execution_count": null,
   "metadata": {},
   "outputs": [],
   "source": [
    "# renaming columns\n",
    "df.columns = ['id', 'Gender', 'Age', 'City', 'Profession', 'Academic Pressure',\n",
    "       'Work Pressure', 'CGPA', 'Study Satisfaction', 'Job Satisfaction',\n",
    "       'Sleep Duration', 'Dietary Habits', 'Degree',\n",
    "       'Suicidal Thoughts', 'Study Hours',\n",
    "       'Financial Stress', 'Family History', 'Depression']"
   ]
  },
  {
   "cell_type": "code",
   "execution_count": null,
   "metadata": {},
   "outputs": [],
   "source": [
    "#given that 99.9% of people are students, I will only focus on students.\n",
    "df.Profession.value_counts(normalize=True)"
   ]
  },
  {
   "cell_type": "code",
   "execution_count": null,
   "metadata": {
    "scrolled": true
   },
   "outputs": [],
   "source": [
    "df_s=df.loc[df[\"Profession\"]==\"Student\",:]\n",
    "df_s"
   ]
  },
  {
   "cell_type": "code",
   "execution_count": null,
   "metadata": {
    "scrolled": false
   },
   "outputs": [],
   "source": [
    "# do we care about work pressure?\n",
    "# there seems to be only a very few students working and who thus have high work pressure. I delete this column.\n",
    "df_s[\"Work Pressure\"].value_counts()"
   ]
  },
  {
   "cell_type": "code",
   "execution_count": null,
   "metadata": {},
   "outputs": [],
   "source": [
    "df_s.drop([\"Work Pressure\"], axis=1, inplace=True)"
   ]
  },
  {
   "cell_type": "markdown",
   "metadata": {},
   "source": [
    "#### Depressed students"
   ]
  },
  {
   "cell_type": "code",
   "execution_count": null,
   "metadata": {},
   "outputs": [],
   "source": [
    "f'Depressed students amount to {round(df_s[\"Depression\"].value_counts(normalize=True)[1],2)} of the total'"
   ]
  },
  {
   "cell_type": "markdown",
   "metadata": {},
   "source": [
    "#### Gender"
   ]
  },
  {
   "cell_type": "code",
   "execution_count": null,
   "metadata": {
    "scrolled": false
   },
   "outputs": [],
   "source": [
    "df_s[\"Gender\"].value_counts(normalize=True)"
   ]
  },
  {
   "cell_type": "code",
   "execution_count": null,
   "metadata": {},
   "outputs": [],
   "source": [
    "stud_depression=df_s[\"Depression\"].value_counts()[1]"
   ]
  },
  {
   "cell_type": "code",
   "execution_count": null,
   "metadata": {},
   "outputs": [],
   "source": [
    "depressed_students=df_s.groupby([\"Gender\"])[\"Depression\"].sum()\n",
    "total_depressed_students=depressed_students.sum()"
   ]
  },
  {
   "cell_type": "code",
   "execution_count": null,
   "metadata": {
    "scrolled": false
   },
   "outputs": [],
   "source": [
    "# in our sample, 56% of all depressed are men, and 44% are women.\n",
    "display(f'The % of depression among female students is {round(depressed_students[0]/stud_depression,2)}')\n",
    "display(f'The % of depression among male students is {round(depressed_students[1]/stud_depression,2)}')"
   ]
  },
  {
   "cell_type": "code",
   "execution_count": null,
   "metadata": {},
   "outputs": [],
   "source": [
    "plt.style.available\n",
    "plt.style.use(\"seaborn\")"
   ]
  },
  {
   "cell_type": "code",
   "execution_count": null,
   "metadata": {},
   "outputs": [],
   "source": [
    "ax = (depressed_students/total_depressed_students).plot(kind=\"bar\", figsize=(8,6), fontsize=12, color=[\"pink\",\"cyan\"], lw=1)\n",
    "\n",
    "for bar in ax.patches: #ax.patches is a list of all rectangular shapes (bars) and each bar is a rectangle object\n",
    "    height = bar.get_height() #this gets the height of the bar\n",
    "    ax.text( #this gets the actual number as a label on the bar\n",
    "        bar.get_x() + bar.get_width() / 2, #this finds the horizontal center of the bar\n",
    "        height,\n",
    "        f'{height:.2f}', #this creates the text string that will be shown\n",
    "        ha='center', #horizontal alignment = center\n",
    "        va='bottom', #vertical alignment = \"bottom\" means aligning the bottom of the text to the y-position so it sits on top of the bar.\n",
    "        fontsize=12\n",
    "    )\n",
    "plt.title(\"Percentage of male and female depressed students\").set_size(15);"
   ]
  },
  {
   "cell_type": "markdown",
   "metadata": {},
   "source": [
    "#### Age"
   ]
  },
  {
   "cell_type": "code",
   "execution_count": null,
   "metadata": {
    "scrolled": true
   },
   "outputs": [],
   "source": [
    "df_s.Age.value_counts().sort_index()"
   ]
  },
  {
   "cell_type": "code",
   "execution_count": null,
   "metadata": {
    "scrolled": true
   },
   "outputs": [],
   "source": [
    "age_depression_gender=df_s.pivot_table(values=\"Depression\", index=\"Age\", columns=\"Gender\", aggfunc=\"sum\").sort_index()[18:34]"
   ]
  },
  {
   "cell_type": "code",
   "execution_count": null,
   "metadata": {
    "scrolled": true
   },
   "outputs": [],
   "source": [
    "ax = age_depression_gender.plot(kind=\"bar\", stacked=True, color=[\"pink\", \"cyan\"], figsize=(10, 7), fontsize=15)\n",
    "ax.set_title(\"Age and Depression, by gender\", fontsize=20)\n",
    "ax.legend(fontsize=15)\n",
    "ax.set_xlabel(\"Age\", fontsize=15)\n",
    "plt.show()"
   ]
  },
  {
   "cell_type": "markdown",
   "metadata": {},
   "source": [
    "#### Academic Pressure"
   ]
  },
  {
   "cell_type": "code",
   "execution_count": null,
   "metadata": {
    "scrolled": true
   },
   "outputs": [],
   "source": [
    "# among the people that are depressed, how many display high academic pressure or smth like that?\n",
    "df_s[\"Academic Pressure\"].value_counts().sort_index()"
   ]
  },
  {
   "cell_type": "code",
   "execution_count": null,
   "metadata": {
    "scrolled": true
   },
   "outputs": [],
   "source": [
    "df_s[\"Academic Pressure\"] = pd.Categorical(df_s[\"Academic Pressure\"], categories=[0,1,2,3,4,5])\n",
    "crosstab=pd.crosstab(df_s[\"Academic Pressure\"], df_s[\"Depression\"], margins=True)\n",
    "crosstab"
   ]
  },
  {
   "cell_type": "code",
   "execution_count": null,
   "metadata": {
    "scrolled": true
   },
   "outputs": [],
   "source": [
    "crosstab = crosstab/crosstab.loc[\"All\",\"All\"]\n",
    "crosstab"
   ]
  },
  {
   "cell_type": "code",
   "execution_count": null,
   "metadata": {},
   "outputs": [],
   "source": [
    "crosstab = crosstab.loc[[0,1,2,3,4,5],[0,1]]"
   ]
  },
  {
   "cell_type": "code",
   "execution_count": null,
   "metadata": {},
   "outputs": [],
   "source": [
    "# depressed students with highest academic pressure are 20% of all students.\n",
    "ax = crosstab.plot(kind=\"bar\", figsize=(8,6))\n",
    "\n",
    "for bar in ax.patches: \n",
    "    height = bar.get_height()\n",
    "    ax.text(bar.get_x() + bar.get_width() / 2, height, f'{height:.2f}', ha='center', va='bottom', fontsize=10)\n",
    "\n",
    "plt.xticks(rotation=0);\n"
   ]
  },
  {
   "cell_type": "markdown",
   "metadata": {},
   "source": [
    "#### Dietary Habits"
   ]
  },
  {
   "cell_type": "code",
   "execution_count": null,
   "metadata": {},
   "outputs": [],
   "source": [
    "# I deleted \"others\"\n",
    "df_s[\"Dietary Habits\"].value_counts(normalize=True).iloc[0:3]"
   ]
  },
  {
   "cell_type": "code",
   "execution_count": null,
   "metadata": {
    "scrolled": true
   },
   "outputs": [],
   "source": [
    "pivot_table_diet=pd.pivot_table(df_s, values=\"Depression\", columns=\"Dietary Habits\" , index=\"Gender\", aggfunc=\"sum\", margins=True).loc[:,[\"Healthy\", \"Moderate\",\"Unhealthy\"]]/7289\n",
    "pivot_table_diet=pivot_table_diet.iloc[0:2,:]\n",
    "pivot_table_diet"
   ]
  },
  {
   "cell_type": "code",
   "execution_count": null,
   "metadata": {},
   "outputs": [],
   "source": [
    "# male depressed students are more unhealthy than female students. Of all unhealthy depressed students, 60% are male.\n",
    "pivot_table_diet.plot(kind=\"bar\");\n",
    "plt.title(\"Depressed students' dietary habits, by gender\");"
   ]
  },
  {
   "cell_type": "code",
   "execution_count": null,
   "metadata": {},
   "outputs": [],
   "source": [
    "# check\n",
    "pd.pivot_table(df_s, values=\"Depression\", columns=\"Dietary Habits\" , index=\"Gender\", aggfunc=\"sum\" ).sum(axis=1)\n",
    "pd.pivot_table(df_s, values=\"Depression\", columns=\"Dietary Habits\" , index=\"Gender\", aggfunc=\"sum\" ).sum(axis=1).sum()"
   ]
  },
  {
   "cell_type": "code",
   "execution_count": null,
   "metadata": {},
   "outputs": [],
   "source": [
    "pd.crosstab(df[\"Dietary Habits\"], df[\"Suicidal Thoughts\"]).drop([\"Others\"]).plot(kind=\"bar\");\n",
    "plt.ylabel(\"Number of people\")\n",
    "plt.title(\"Suicidal Thoughts and Dietary Habits\")\n",
    "plt.tight_layout()\n",
    "plt.show()"
   ]
  },
  {
   "cell_type": "markdown",
   "metadata": {},
   "source": [
    "#### Study Satisfaction"
   ]
  },
  {
   "cell_type": "code",
   "execution_count": null,
   "metadata": {
    "scrolled": false
   },
   "outputs": [],
   "source": [
    "df_s.groupby([\"Study Satisfaction\"])[\"Depression\"].sum()"
   ]
  },
  {
   "cell_type": "code",
   "execution_count": null,
   "metadata": {},
   "outputs": [],
   "source": [
    "pivot_table_ss=pd.pivot_table(df_s, values=\"Depression\", columns=\"Gender\", index=\"Study Satisfaction\", aggfunc=\"sum\", margins=True)/16308\n",
    "pivot_table_ss=pivot_table_ss.iloc[[1,2,3,4,5],[0,1]]\n",
    "pivot_table_ss"
   ]
  },
  {
   "cell_type": "code",
   "execution_count": null,
   "metadata": {
    "scrolled": false
   },
   "outputs": [],
   "source": [
    "ax=pivot_table_ss.plot(kind=\"bar\", color=[\"pink\",\"cyan\"], figsize=(8,6));\n",
    "plt.xticks(rotation=0);\n",
    "plt.title(\"Study satisfaction in depressed female and male students\");\n",
    "\n",
    "for bar in ax.patches: \n",
    "    height = bar.get_height()\n",
    "    ax.text(bar.get_x() + bar.get_width() / 2, height, f'{height:.2f}', ha='center', va='bottom', fontsize=10)"
   ]
  },
  {
   "cell_type": "code",
   "execution_count": null,
   "metadata": {},
   "outputs": [],
   "source": [
    "df_0=df_s[df_s[\"Depression\"]==0]"
   ]
  },
  {
   "cell_type": "code",
   "execution_count": null,
   "metadata": {},
   "outputs": [],
   "source": [
    "ax = (pd.crosstab(df_0[\"Study Satisfaction\"], df_0[\"Gender\"], margins=True)/11562).iloc[[1,2,3,4,5],[0,1]].plot(kind=\"bar\", color=[\"pink\",\"cyan\"], figsize=(8,6));\n",
    "plt.xticks(rotation=0);\n",
    "\n",
    "for bar in ax.patches: \n",
    "    height = bar.get_height()\n",
    "    ax.text(bar.get_x() + bar.get_width() / 2, height, f'{height:.2f}', ha='center', va='bottom', fontsize=10)"
   ]
  },
  {
   "cell_type": "code",
   "execution_count": null,
   "metadata": {},
   "outputs": [],
   "source": [
    "pivot_table_ss=pd.pivot_table(df_s, values=\"Depression\", columns=\"Gender\", index=\"Study Satisfaction\", aggfunc=\"sum\", margins=True)/16308\n"
   ]
  },
  {
   "cell_type": "markdown",
   "metadata": {},
   "source": [
    "#### City and Depression"
   ]
  },
  {
   "cell_type": "code",
   "execution_count": null,
   "metadata": {
    "scrolled": false
   },
   "outputs": [],
   "source": [
    "df_s.groupby([\"City\"])[\"Depression\"].sum().sort_values(ascending=False)"
   ]
  },
  {
   "cell_type": "markdown",
   "metadata": {},
   "source": [
    "#### Sleep Duration"
   ]
  },
  {
   "cell_type": "code",
   "execution_count": null,
   "metadata": {},
   "outputs": [],
   "source": [
    "df[\"Sleep Duration\"]=df[\"Sleep Duration\"].apply(lambda x: x.strip(\"'\"))\n",
    "df"
   ]
  },
  {
   "cell_type": "code",
   "execution_count": null,
   "metadata": {
    "scrolled": true
   },
   "outputs": [],
   "source": [
    "group = df.groupby([\"Sleep Duration\"])[\"Depression\"].value_counts().unstack(fill_value=0)\n",
    "group.drop([\"Others\"], inplace=True)\n",
    "group"
   ]
  },
  {
   "cell_type": "code",
   "execution_count": null,
   "metadata": {
    "scrolled": true
   },
   "outputs": [],
   "source": [
    "group=group.loc[[\"Less than 5 hours\", \"5-6 hours\", \"7-8 hours\", \"More than 8 hours\"],:]\n",
    "group"
   ]
  },
  {
   "cell_type": "code",
   "execution_count": null,
   "metadata": {},
   "outputs": [],
   "source": [
    "group.plot(kind=\"bar\", figsize=(10,6), colormap=\"viridis\")\n",
    "plt.xlabel(\"Sleep Duration\")\n",
    "plt.ylabel(\"Number of People\")\n",
    "plt.title(\"Depression Levels by Sleep Duration\")\n",
    "plt.legend(title=\"Depression\")\n",
    "plt.tight_layout()\n",
    "plt.show()"
   ]
  },
  {
   "cell_type": "code",
   "execution_count": null,
   "metadata": {},
   "outputs": [],
   "source": [
    "group.sum(axis=0)"
   ]
  },
  {
   "cell_type": "code",
   "execution_count": null,
   "metadata": {
    "scrolled": true
   },
   "outputs": [],
   "source": [
    "df.loc[df[\"Sleep Duration\"]!=\"Others\",:].Depression.value_counts()"
   ]
  },
  {
   "cell_type": "code",
   "execution_count": null,
   "metadata": {
    "scrolled": false
   },
   "outputs": [],
   "source": [
    "display(pd.crosstab(df[\"Degree\"], df[\"Depression\"], normalize=True).plot(kind=\"bar\"));\n",
    "display(pd.crosstab(df[\"Degree\"], df[\"Depression\"], normalize=\"index\"))\n",
    "#almost 16% of all people with depression only have a Class 12 diploma. Of Class 12 graduates in our sample, 70% have depression."
   ]
  },
  {
   "cell_type": "code",
   "execution_count": null,
   "metadata": {
    "scrolled": true
   },
   "outputs": [],
   "source": [
    "df_class12=df.loc[df[\"Degree\"]==\"'Class 12'\",:]\n",
    "crosstab = pd.crosstab(df_class12[\"Gender\"], df_class12[\"Depression\"])\n",
    "ax = crosstab.plot(kind=\"bar\", figsize=(8,6))\n",
    "\n",
    "for bar in ax.patches: \n",
    "    height = bar.get_height() \n",
    "    ax.text(bar.get_x() + bar.get_width() / 2, height, f'{int(height)}', ha='center', va='bottom',fontsize=10)\n",
    "\n",
    "plt.ylabel(\"Count\")\n",
    "plt.title(\"Depression by Gender\")\n",
    "plt.legend(title=\"Depression\")\n",
    "plt.tight_layout()\n",
    "plt.show()"
   ]
  },
  {
   "cell_type": "markdown",
   "metadata": {},
   "source": [
    "#### Study Hours"
   ]
  },
  {
   "cell_type": "code",
   "execution_count": null,
   "metadata": {
    "scrolled": true
   },
   "outputs": [],
   "source": [
    "crosstab_study_depression=pd.crosstab(df_s[\"Study Hours\"], df_s[\"Depression\"])\n",
    "crosstab_study_depression"
   ]
  },
  {
   "cell_type": "code",
   "execution_count": null,
   "metadata": {
    "scrolled": true
   },
   "outputs": [],
   "source": [
    "# the plot shows that the more depressed people tend to study longer hours (6+)\n",
    "crosstab_study_depression.plot(kind=\"bar\", stacked=True)"
   ]
  },
  {
   "cell_type": "code",
   "execution_count": null,
   "metadata": {
    "scrolled": false
   },
   "outputs": [],
   "source": [
    "# depressed students tend to study longer hours. Most depressed students study 10,11,12 hours.\n",
    "pivot_depression_studyhours=df_s.pivot_table(values=\"Depression\", index=\"Study Hours\", columns=\"Gender\", aggfunc=\"sum\")\n",
    "more_than_10_hours = pivot_depression_studyhours.loc[[ 10.0, 11.0, 12.0],:].sum(axis=0)\n",
    "male_and_females_studying_more_than_10_hours=more_than_10_hours/pivot_depression_studyhours.sum(axis=0)\n",
    "print(f'Depressed female students studying more than 10 hours are {round(male_and_females_studying_more_than_10_hours[0],2)} of the total')\n",
    "print(f'Depressed male students studying more than 10 hours are {round(male_and_females_studying_more_than_10_hours[1],2)} of the total')"
   ]
  },
  {
   "cell_type": "code",
   "execution_count": null,
   "metadata": {},
   "outputs": [],
   "source": [
    "pivot_depression_studyhours.plot(kind=\"bar\");"
   ]
  },
  {
   "cell_type": "markdown",
   "metadata": {},
   "source": [
    "#### Suicidal Thoughts"
   ]
  },
  {
   "cell_type": "code",
   "execution_count": null,
   "metadata": {
    "scrolled": false
   },
   "outputs": [],
   "source": [
    "pd.crosstab(df_s[\"Suicidal Thoughts\"], df_s[\"Depression\"]).plot(kind=\"bar\")\n"
   ]
  },
  {
   "cell_type": "code",
   "execution_count": null,
   "metadata": {},
   "outputs": [],
   "source": [
    "# people who study are more likely to have suicidal thoughts.\n",
    "pd.crosstab(df_s[\"Study Hours\"], df_s[\"Suicidal Thoughts\"]).plot(kind=\"bar\")"
   ]
  },
  {
   "cell_type": "code",
   "execution_count": null,
   "metadata": {},
   "outputs": [],
   "source": [
    "# do people that pursue certain studies tend to have more suicidal thoughts and be depressed? pivot table?"
   ]
  },
  {
   "cell_type": "code",
   "execution_count": null,
   "metadata": {},
   "outputs": [],
   "source": [
    "# do people that have a family history of depression have a higher tendency to be depressed themselves?"
   ]
  },
  {
   "cell_type": "code",
   "execution_count": null,
   "metadata": {},
   "outputs": [],
   "source": [
    "# there doesn't seem to be a strong relation here\n",
    "pd.crosstab(df_s[\"Family History\"], df_s[\"Depression\"])"
   ]
  },
  {
   "cell_type": "markdown",
   "metadata": {},
   "source": [
    "## Machine Learning Models"
   ]
  },
  {
   "cell_type": "markdown",
   "metadata": {},
   "source": [
    "#### Questions"
   ]
  },
  {
   "cell_type": "markdown",
   "metadata": {},
   "source": [
    "#### Features I look at:"
   ]
  },
  {
   "cell_type": "code",
   "execution_count": null,
   "metadata": {},
   "outputs": [],
   "source": []
  },
  {
   "cell_type": "code",
   "execution_count": null,
   "metadata": {},
   "outputs": [],
   "source": [
    "#is a student with these features likely to experience depression?"
   ]
  },
  {
   "cell_type": "code",
   "execution_count": null,
   "metadata": {},
   "outputs": [],
   "source": [
    "#which factors are mostly associated with depression?\n",
    "# I can plot a logistic regression model and look at coefficients for log. regression or feature importances for a random forest\n",
    "#to understand what's the most imp feature. "
   ]
  },
  {
   "cell_type": "code",
   "execution_count": null,
   "metadata": {},
   "outputs": [],
   "source": [
    "# policy outcome and proposal: what are the students that need the highest help? How can we help them?"
   ]
  },
  {
   "cell_type": "markdown",
   "metadata": {},
   "source": [
    "### Classification"
   ]
  },
  {
   "cell_type": "code",
   "execution_count": null,
   "metadata": {},
   "outputs": [],
   "source": []
  },
  {
   "cell_type": "markdown",
   "metadata": {},
   "source": [
    "### Logistic Regression"
   ]
  },
  {
   "cell_type": "markdown",
   "metadata": {},
   "source": [
    "### Random Forest model"
   ]
  },
  {
   "cell_type": "markdown",
   "metadata": {},
   "source": [
    "### Regression"
   ]
  },
  {
   "cell_type": "code",
   "execution_count": null,
   "metadata": {
    "scrolled": false
   },
   "outputs": [],
   "source": [
    "# discrete variables\n",
    "df_s.corr()"
   ]
  },
  {
   "cell_type": "code",
   "execution_count": null,
   "metadata": {},
   "outputs": [],
   "source": [
    "#strong correlation: age and depression (negative) - 0.2\n",
    "#strong correlation: academic pressure and depression (positive) + 0.47\n",
    "#strong correlation: study satisfaction and depression (negative) - 0.168\n",
    "#strong correlation: academic pressure and study satisfaction (negative) -0.11\n",
    "#strong correlation: study hours and depression (positive) +0.2\n"
   ]
  },
  {
   "cell_type": "code",
   "execution_count": null,
   "metadata": {},
   "outputs": [],
   "source": [
    "#check the heat map!!\n",
    "sns.heatmap(df_s.corr(), vmin=-1, vmax=+1, annot=True, linecolor=\"black\", cbar=True);"
   ]
  },
  {
   "cell_type": "code",
   "execution_count": null,
   "metadata": {},
   "outputs": [],
   "source": []
  },
  {
   "cell_type": "markdown",
   "metadata": {},
   "source": [
    "### Dimensionality Reduction"
   ]
  },
  {
   "cell_type": "code",
   "execution_count": null,
   "metadata": {},
   "outputs": [],
   "source": []
  }
 ],
 "metadata": {
  "kernelspec": {
   "display_name": "Python 3",
   "language": "python",
   "name": "python3"
  },
  "language_info": {
   "codemirror_mode": {
    "name": "ipython",
    "version": 3
   },
   "file_extension": ".py",
   "mimetype": "text/x-python",
   "name": "python",
   "nbconvert_exporter": "python",
   "pygments_lexer": "ipython3",
   "version": "3.8.3"
  }
 },
 "nbformat": 4,
 "nbformat_minor": 5
}
