{
 "cells": [
  {
   "cell_type": "markdown",
   "metadata": {},
   "source": [
    "# Depression among Indian Students"
   ]
  },
  {
   "cell_type": "markdown",
   "metadata": {},
   "source": [
    "## Pre-processing"
   ]
  },
  {
   "cell_type": "markdown",
   "metadata": {},
   "source": [
    "The dataset is available here: https://www.kaggle.com/datasets/adilshamim8/student-depression-dataset"
   ]
  },
  {
   "cell_type": "code",
   "execution_count": 1,
   "metadata": {},
   "outputs": [
    {
     "name": "stderr",
     "output_type": "stream",
     "text": [
      "/opt/anaconda3/lib/python3.8/site-packages/pandas/core/computation/expressions.py:20: UserWarning: Pandas requires version '2.7.3' or newer of 'numexpr' (version '2.7.1' currently installed).\n",
      "  from pandas.core.computation.check import NUMEXPR_INSTALLED\n"
     ]
    }
   ],
   "source": [
    "import pandas as pd\n",
    "import numpy as np\n",
    "import matplotlib.pyplot as plt\n",
    "import seaborn as sns\n",
    "import plotly.express as px\n",
    "#plt.rcParams['figure.figsize'] = (10, 8) #-> they apply to all plots below\n",
    "%matplotlib inline"
   ]
  },
  {
   "cell_type": "code",
   "execution_count": 2,
   "metadata": {},
   "outputs": [],
   "source": [
    "df = pd.read_csv(\"student_depression_dataset.csv\")"
   ]
  },
  {
   "cell_type": "code",
   "execution_count": 3,
   "metadata": {
    "scrolled": false
   },
   "outputs": [
    {
     "data": {
      "text/html": [
       "<div>\n",
       "<style scoped>\n",
       "    .dataframe tbody tr th:only-of-type {\n",
       "        vertical-align: middle;\n",
       "    }\n",
       "\n",
       "    .dataframe tbody tr th {\n",
       "        vertical-align: top;\n",
       "    }\n",
       "\n",
       "    .dataframe thead th {\n",
       "        text-align: right;\n",
       "    }\n",
       "</style>\n",
       "<table border=\"1\" class=\"dataframe\">\n",
       "  <thead>\n",
       "    <tr style=\"text-align: right;\">\n",
       "      <th></th>\n",
       "      <th>id</th>\n",
       "      <th>Gender</th>\n",
       "      <th>Age</th>\n",
       "      <th>City</th>\n",
       "      <th>Profession</th>\n",
       "      <th>Academic Pressure</th>\n",
       "      <th>Work Pressure</th>\n",
       "      <th>CGPA</th>\n",
       "      <th>Study Satisfaction</th>\n",
       "      <th>Job Satisfaction</th>\n",
       "      <th>Sleep Duration</th>\n",
       "      <th>Dietary Habits</th>\n",
       "      <th>Degree</th>\n",
       "      <th>Have you ever had suicidal thoughts ?</th>\n",
       "      <th>Work/Study Hours</th>\n",
       "      <th>Financial Stress</th>\n",
       "      <th>Family History of Mental Illness</th>\n",
       "      <th>Depression</th>\n",
       "    </tr>\n",
       "  </thead>\n",
       "  <tbody>\n",
       "    <tr>\n",
       "      <th>0</th>\n",
       "      <td>2</td>\n",
       "      <td>Male</td>\n",
       "      <td>33.0</td>\n",
       "      <td>Visakhapatnam</td>\n",
       "      <td>Student</td>\n",
       "      <td>5.0</td>\n",
       "      <td>0.0</td>\n",
       "      <td>8.97</td>\n",
       "      <td>2.0</td>\n",
       "      <td>0.0</td>\n",
       "      <td>'5-6 hours'</td>\n",
       "      <td>Healthy</td>\n",
       "      <td>B.Pharm</td>\n",
       "      <td>Yes</td>\n",
       "      <td>3.0</td>\n",
       "      <td>1.0</td>\n",
       "      <td>No</td>\n",
       "      <td>1</td>\n",
       "    </tr>\n",
       "    <tr>\n",
       "      <th>1</th>\n",
       "      <td>8</td>\n",
       "      <td>Female</td>\n",
       "      <td>24.0</td>\n",
       "      <td>Bangalore</td>\n",
       "      <td>Student</td>\n",
       "      <td>2.0</td>\n",
       "      <td>0.0</td>\n",
       "      <td>5.90</td>\n",
       "      <td>5.0</td>\n",
       "      <td>0.0</td>\n",
       "      <td>'5-6 hours'</td>\n",
       "      <td>Moderate</td>\n",
       "      <td>BSc</td>\n",
       "      <td>No</td>\n",
       "      <td>3.0</td>\n",
       "      <td>2.0</td>\n",
       "      <td>Yes</td>\n",
       "      <td>0</td>\n",
       "    </tr>\n",
       "    <tr>\n",
       "      <th>2</th>\n",
       "      <td>26</td>\n",
       "      <td>Male</td>\n",
       "      <td>31.0</td>\n",
       "      <td>Srinagar</td>\n",
       "      <td>Student</td>\n",
       "      <td>3.0</td>\n",
       "      <td>0.0</td>\n",
       "      <td>7.03</td>\n",
       "      <td>5.0</td>\n",
       "      <td>0.0</td>\n",
       "      <td>'Less than 5 hours'</td>\n",
       "      <td>Healthy</td>\n",
       "      <td>BA</td>\n",
       "      <td>No</td>\n",
       "      <td>9.0</td>\n",
       "      <td>1.0</td>\n",
       "      <td>Yes</td>\n",
       "      <td>0</td>\n",
       "    </tr>\n",
       "    <tr>\n",
       "      <th>3</th>\n",
       "      <td>30</td>\n",
       "      <td>Female</td>\n",
       "      <td>28.0</td>\n",
       "      <td>Varanasi</td>\n",
       "      <td>Student</td>\n",
       "      <td>3.0</td>\n",
       "      <td>0.0</td>\n",
       "      <td>5.59</td>\n",
       "      <td>2.0</td>\n",
       "      <td>0.0</td>\n",
       "      <td>'7-8 hours'</td>\n",
       "      <td>Moderate</td>\n",
       "      <td>BCA</td>\n",
       "      <td>Yes</td>\n",
       "      <td>4.0</td>\n",
       "      <td>5.0</td>\n",
       "      <td>Yes</td>\n",
       "      <td>1</td>\n",
       "    </tr>\n",
       "    <tr>\n",
       "      <th>4</th>\n",
       "      <td>32</td>\n",
       "      <td>Female</td>\n",
       "      <td>25.0</td>\n",
       "      <td>Jaipur</td>\n",
       "      <td>Student</td>\n",
       "      <td>4.0</td>\n",
       "      <td>0.0</td>\n",
       "      <td>8.13</td>\n",
       "      <td>3.0</td>\n",
       "      <td>0.0</td>\n",
       "      <td>'5-6 hours'</td>\n",
       "      <td>Moderate</td>\n",
       "      <td>M.Tech</td>\n",
       "      <td>Yes</td>\n",
       "      <td>1.0</td>\n",
       "      <td>1.0</td>\n",
       "      <td>No</td>\n",
       "      <td>0</td>\n",
       "    </tr>\n",
       "  </tbody>\n",
       "</table>\n",
       "</div>"
      ],
      "text/plain": [
       "   id  Gender   Age           City Profession  Academic Pressure  \\\n",
       "0   2    Male  33.0  Visakhapatnam    Student                5.0   \n",
       "1   8  Female  24.0      Bangalore    Student                2.0   \n",
       "2  26    Male  31.0       Srinagar    Student                3.0   \n",
       "3  30  Female  28.0       Varanasi    Student                3.0   \n",
       "4  32  Female  25.0         Jaipur    Student                4.0   \n",
       "\n",
       "   Work Pressure  CGPA  Study Satisfaction  Job Satisfaction  \\\n",
       "0            0.0  8.97                 2.0               0.0   \n",
       "1            0.0  5.90                 5.0               0.0   \n",
       "2            0.0  7.03                 5.0               0.0   \n",
       "3            0.0  5.59                 2.0               0.0   \n",
       "4            0.0  8.13                 3.0               0.0   \n",
       "\n",
       "        Sleep Duration Dietary Habits   Degree  \\\n",
       "0          '5-6 hours'        Healthy  B.Pharm   \n",
       "1          '5-6 hours'       Moderate      BSc   \n",
       "2  'Less than 5 hours'        Healthy       BA   \n",
       "3          '7-8 hours'       Moderate      BCA   \n",
       "4          '5-6 hours'       Moderate   M.Tech   \n",
       "\n",
       "  Have you ever had suicidal thoughts ?  Work/Study Hours Financial Stress  \\\n",
       "0                                   Yes               3.0              1.0   \n",
       "1                                    No               3.0              2.0   \n",
       "2                                    No               9.0              1.0   \n",
       "3                                   Yes               4.0              5.0   \n",
       "4                                   Yes               1.0              1.0   \n",
       "\n",
       "  Family History of Mental Illness  Depression  \n",
       "0                               No           1  \n",
       "1                              Yes           0  \n",
       "2                              Yes           0  \n",
       "3                              Yes           1  \n",
       "4                               No           0  "
      ]
     },
     "metadata": {},
     "output_type": "display_data"
    },
    {
     "name": "stdout",
     "output_type": "stream",
     "text": [
      "<class 'pandas.core.frame.DataFrame'>\n",
      "RangeIndex: 27901 entries, 0 to 27900\n",
      "Data columns (total 18 columns):\n",
      " #   Column                                 Non-Null Count  Dtype  \n",
      "---  ------                                 --------------  -----  \n",
      " 0   id                                     27901 non-null  int64  \n",
      " 1   Gender                                 27901 non-null  object \n",
      " 2   Age                                    27901 non-null  float64\n",
      " 3   City                                   27901 non-null  object \n",
      " 4   Profession                             27901 non-null  object \n",
      " 5   Academic Pressure                      27901 non-null  float64\n",
      " 6   Work Pressure                          27901 non-null  float64\n",
      " 7   CGPA                                   27901 non-null  float64\n",
      " 8   Study Satisfaction                     27901 non-null  float64\n",
      " 9   Job Satisfaction                       27901 non-null  float64\n",
      " 10  Sleep Duration                         27901 non-null  object \n",
      " 11  Dietary Habits                         27901 non-null  object \n",
      " 12  Degree                                 27901 non-null  object \n",
      " 13  Have you ever had suicidal thoughts ?  27901 non-null  object \n",
      " 14  Work/Study Hours                       27901 non-null  float64\n",
      " 15  Financial Stress                       27901 non-null  object \n",
      " 16  Family History of Mental Illness       27901 non-null  object \n",
      " 17  Depression                             27901 non-null  int64  \n",
      "dtypes: float64(7), int64(2), object(9)\n",
      "memory usage: 3.8+ MB\n"
     ]
    },
    {
     "data": {
      "text/plain": [
       "None"
      ]
     },
     "metadata": {},
     "output_type": "display_data"
    },
    {
     "data": {
      "text/plain": [
       "(27901, 18)"
      ]
     },
     "metadata": {},
     "output_type": "display_data"
    }
   ],
   "source": [
    "display(df.head())\n",
    "display(df.info(verbose=True, show_counts=True))\n",
    "display(df.shape)"
   ]
  },
  {
   "cell_type": "code",
   "execution_count": 4,
   "metadata": {
    "scrolled": true
   },
   "outputs": [
    {
     "name": "stdout",
     "output_type": "stream",
     "text": [
      "id                                       0\n",
      "Gender                                   0\n",
      "Age                                      0\n",
      "City                                     0\n",
      "Profession                               0\n",
      "Academic Pressure                        0\n",
      "Work Pressure                            0\n",
      "CGPA                                     0\n",
      "Study Satisfaction                       0\n",
      "Job Satisfaction                         0\n",
      "Sleep Duration                           0\n",
      "Dietary Habits                           0\n",
      "Degree                                   0\n",
      "Have you ever had suicidal thoughts ?    0\n",
      "Work/Study Hours                         0\n",
      "Financial Stress                         0\n",
      "Family History of Mental Illness         0\n",
      "Depression                               0\n",
      "dtype: int64\n",
      "Empty DataFrame\n",
      "Columns: [id, Gender, Age, City, Profession, Academic Pressure, Work Pressure, CGPA, Study Satisfaction, Job Satisfaction, Sleep Duration, Dietary Habits, Degree, Have you ever had suicidal thoughts ?, Work/Study Hours, Financial Stress, Family History of Mental Illness, Depression]\n",
      "Index: []\n"
     ]
    }
   ],
   "source": [
    "# there are no np.NaN values and no duplicated\n",
    "print(df.isnull().sum())\n",
    "print(df[df.duplicated()])"
   ]
  },
  {
   "cell_type": "code",
   "execution_count": 5,
   "metadata": {},
   "outputs": [],
   "source": [
    "#transforming financial stress from object to numeric\n",
    "df.query(\"`Financial Stress` == '?'\")\n",
    "df[\"Financial Stress\"].replace(\"?\", df.loc[~(df[\"Financial Stress\"]==\"?\"),\"Financial Stress\"].mode()[0], inplace=True)\n",
    "df[\"Financial Stress\"]=df[\"Financial Stress\"].astype(float)"
   ]
  },
  {
   "cell_type": "code",
   "execution_count": 6,
   "metadata": {},
   "outputs": [],
   "source": [
    "#stripping sleep duration\n",
    "df[\"Sleep Duration\"]=df[\"Sleep Duration\"].apply(lambda x: x.strip(\"'\"))"
   ]
  },
  {
   "cell_type": "code",
   "execution_count": 7,
   "metadata": {},
   "outputs": [],
   "source": [
    "#age should be an int\n",
    "df[\"Age\"] = df[\"Age\"].astype(int)"
   ]
  },
  {
   "cell_type": "code",
   "execution_count": 8,
   "metadata": {},
   "outputs": [],
   "source": [
    "#given that 99.9% of people are students, we will only focus on students.\n",
    "df[\"Profession\"].value_counts(normalize=True)\n",
    "df.loc[df[\"Profession\"]==\"Student\",:]\n",
    "df.drop([\"Profession\"],axis=1, inplace=True)"
   ]
  },
  {
   "cell_type": "code",
   "execution_count": 9,
   "metadata": {},
   "outputs": [],
   "source": [
    "#there seems to be only a very few students working and who thus have high work pressure.\n",
    "#I thus delete \"work pressure\" and \"job satisfaction\"\n",
    "df[\"Work Pressure\"].value_counts()\n",
    "df.drop([\"Work Pressure\"], axis=1, inplace=True)\n",
    "\n",
    "df[\"Job Satisfaction\"].value_counts(normalize=True)\n",
    "df.drop([\"Job Satisfaction\"], inplace=True, axis=1)"
   ]
  },
  {
   "cell_type": "code",
   "execution_count": 10,
   "metadata": {
    "scrolled": false
   },
   "outputs": [],
   "source": [
    "#Renaming the final columns\n",
    "df.rename(columns={\"Have you ever had suicidal thoughts ?\":\"Suicidal Thoughts\",\n",
    "                   \"Family History of Mental Illness\":\"Family History\",\n",
    "                  \"Work/Study Hours\":\"Work_study_hours\"}, inplace=True)"
   ]
  },
  {
   "cell_type": "code",
   "execution_count": 11,
   "metadata": {},
   "outputs": [],
   "source": [
    "df.set_index(\"id\", inplace=True)"
   ]
  },
  {
   "cell_type": "code",
   "execution_count": 12,
   "metadata": {},
   "outputs": [],
   "source": [
    "df.to_csv(\"depression_after_eda.csv\", index=False)"
   ]
  },
  {
   "cell_type": "code",
   "execution_count": 13,
   "metadata": {
    "scrolled": false
   },
   "outputs": [
    {
     "data": {
      "text/html": [
       "<div>\n",
       "<style scoped>\n",
       "    .dataframe tbody tr th:only-of-type {\n",
       "        vertical-align: middle;\n",
       "    }\n",
       "\n",
       "    .dataframe tbody tr th {\n",
       "        vertical-align: top;\n",
       "    }\n",
       "\n",
       "    .dataframe thead th {\n",
       "        text-align: right;\n",
       "    }\n",
       "</style>\n",
       "<table border=\"1\" class=\"dataframe\">\n",
       "  <thead>\n",
       "    <tr style=\"text-align: right;\">\n",
       "      <th></th>\n",
       "      <th>Gender</th>\n",
       "      <th>Age</th>\n",
       "      <th>City</th>\n",
       "      <th>Academic Pressure</th>\n",
       "      <th>CGPA</th>\n",
       "      <th>Study Satisfaction</th>\n",
       "      <th>Sleep Duration</th>\n",
       "      <th>Dietary Habits</th>\n",
       "      <th>Degree</th>\n",
       "      <th>Suicidal Thoughts</th>\n",
       "      <th>Work_study_hours</th>\n",
       "      <th>Financial Stress</th>\n",
       "      <th>Family History</th>\n",
       "      <th>Depression</th>\n",
       "    </tr>\n",
       "    <tr>\n",
       "      <th>id</th>\n",
       "      <th></th>\n",
       "      <th></th>\n",
       "      <th></th>\n",
       "      <th></th>\n",
       "      <th></th>\n",
       "      <th></th>\n",
       "      <th></th>\n",
       "      <th></th>\n",
       "      <th></th>\n",
       "      <th></th>\n",
       "      <th></th>\n",
       "      <th></th>\n",
       "      <th></th>\n",
       "      <th></th>\n",
       "    </tr>\n",
       "  </thead>\n",
       "  <tbody>\n",
       "    <tr>\n",
       "      <th>2</th>\n",
       "      <td>Male</td>\n",
       "      <td>33</td>\n",
       "      <td>Visakhapatnam</td>\n",
       "      <td>5.0</td>\n",
       "      <td>8.97</td>\n",
       "      <td>2.0</td>\n",
       "      <td>5-6 hours</td>\n",
       "      <td>Healthy</td>\n",
       "      <td>B.Pharm</td>\n",
       "      <td>Yes</td>\n",
       "      <td>3.0</td>\n",
       "      <td>1.0</td>\n",
       "      <td>No</td>\n",
       "      <td>1</td>\n",
       "    </tr>\n",
       "    <tr>\n",
       "      <th>8</th>\n",
       "      <td>Female</td>\n",
       "      <td>24</td>\n",
       "      <td>Bangalore</td>\n",
       "      <td>2.0</td>\n",
       "      <td>5.90</td>\n",
       "      <td>5.0</td>\n",
       "      <td>5-6 hours</td>\n",
       "      <td>Moderate</td>\n",
       "      <td>BSc</td>\n",
       "      <td>No</td>\n",
       "      <td>3.0</td>\n",
       "      <td>2.0</td>\n",
       "      <td>Yes</td>\n",
       "      <td>0</td>\n",
       "    </tr>\n",
       "    <tr>\n",
       "      <th>26</th>\n",
       "      <td>Male</td>\n",
       "      <td>31</td>\n",
       "      <td>Srinagar</td>\n",
       "      <td>3.0</td>\n",
       "      <td>7.03</td>\n",
       "      <td>5.0</td>\n",
       "      <td>Less than 5 hours</td>\n",
       "      <td>Healthy</td>\n",
       "      <td>BA</td>\n",
       "      <td>No</td>\n",
       "      <td>9.0</td>\n",
       "      <td>1.0</td>\n",
       "      <td>Yes</td>\n",
       "      <td>0</td>\n",
       "    </tr>\n",
       "    <tr>\n",
       "      <th>30</th>\n",
       "      <td>Female</td>\n",
       "      <td>28</td>\n",
       "      <td>Varanasi</td>\n",
       "      <td>3.0</td>\n",
       "      <td>5.59</td>\n",
       "      <td>2.0</td>\n",
       "      <td>7-8 hours</td>\n",
       "      <td>Moderate</td>\n",
       "      <td>BCA</td>\n",
       "      <td>Yes</td>\n",
       "      <td>4.0</td>\n",
       "      <td>5.0</td>\n",
       "      <td>Yes</td>\n",
       "      <td>1</td>\n",
       "    </tr>\n",
       "    <tr>\n",
       "      <th>32</th>\n",
       "      <td>Female</td>\n",
       "      <td>25</td>\n",
       "      <td>Jaipur</td>\n",
       "      <td>4.0</td>\n",
       "      <td>8.13</td>\n",
       "      <td>3.0</td>\n",
       "      <td>5-6 hours</td>\n",
       "      <td>Moderate</td>\n",
       "      <td>M.Tech</td>\n",
       "      <td>Yes</td>\n",
       "      <td>1.0</td>\n",
       "      <td>1.0</td>\n",
       "      <td>No</td>\n",
       "      <td>0</td>\n",
       "    </tr>\n",
       "  </tbody>\n",
       "</table>\n",
       "</div>"
      ],
      "text/plain": [
       "    Gender  Age           City  Academic Pressure  CGPA  Study Satisfaction  \\\n",
       "id                                                                            \n",
       "2     Male   33  Visakhapatnam                5.0  8.97                 2.0   \n",
       "8   Female   24      Bangalore                2.0  5.90                 5.0   \n",
       "26    Male   31       Srinagar                3.0  7.03                 5.0   \n",
       "30  Female   28       Varanasi                3.0  5.59                 2.0   \n",
       "32  Female   25         Jaipur                4.0  8.13                 3.0   \n",
       "\n",
       "       Sleep Duration Dietary Habits   Degree Suicidal Thoughts  \\\n",
       "id                                                                \n",
       "2           5-6 hours        Healthy  B.Pharm               Yes   \n",
       "8           5-6 hours       Moderate      BSc                No   \n",
       "26  Less than 5 hours        Healthy       BA                No   \n",
       "30          7-8 hours       Moderate      BCA               Yes   \n",
       "32          5-6 hours       Moderate   M.Tech               Yes   \n",
       "\n",
       "    Work_study_hours  Financial Stress Family History  Depression  \n",
       "id                                                                 \n",
       "2                3.0               1.0             No           1  \n",
       "8                3.0               2.0            Yes           0  \n",
       "26               9.0               1.0            Yes           0  \n",
       "30               4.0               5.0            Yes           1  \n",
       "32               1.0               1.0             No           0  "
      ]
     },
     "execution_count": 13,
     "metadata": {},
     "output_type": "execute_result"
    }
   ],
   "source": [
    "df.head()"
   ]
  },
  {
   "cell_type": "code",
   "execution_count": 14,
   "metadata": {},
   "outputs": [
    {
     "data": {
      "text/plain": [
       "(27901, 14)"
      ]
     },
     "execution_count": 14,
     "metadata": {},
     "output_type": "execute_result"
    }
   ],
   "source": [
    "df.shape"
   ]
  },
  {
   "cell_type": "markdown",
   "metadata": {},
   "source": [
    "#### Boxplot"
   ]
  },
  {
   "cell_type": "code",
   "execution_count": 15,
   "metadata": {},
   "outputs": [],
   "source": [
    "#plt.style.available\n",
    "#plt.style.use(plt.style.available[-1]); #-> tableau-coloblind10 has a nice layout."
   ]
  },
  {
   "cell_type": "code",
   "execution_count": 16,
   "metadata": {
    "scrolled": true
   },
   "outputs": [
    {
     "data": {
      "image/png": "[encoded data removed]",
      "text/plain": [
       "<Figure size 432x288 with 1 Axes>"
      ]
     },
     "metadata": {
      "needs_background": "light"
     },
     "output_type": "display_data"
    },
    {
     "data": {
      "image/png": "[encoded data removed]",
      "text/plain": [
       "<Figure size 432x288 with 1 Axes>"
      ]
     },
     "metadata": {
      "needs_background": "light"
     },
     "output_type": "display_data"
    },
    {
     "data": {
      "image/png": "[encoded data removed]",
      "text/plain": [
       "<Figure size 432x288 with 1 Axes>"
      ]
     },
     "metadata": {
      "needs_background": "light"
     },
     "output_type": "display_data"
    },
    {
     "data": {
      "image/png": "[encoded data removed]",
      "text/plain": [
       "<Figure size 432x288 with 1 Axes>"
      ]
     },
     "metadata": {
      "needs_background": "light"
     },
     "output_type": "display_data"
    },
    {
     "data": {
      "image/png": "[encoded data removed]",
      "text/plain": [
       "<Figure size 432x288 with 1 Axes>"
      ]
     },
     "metadata": {
      "needs_background": "light"
     },
     "output_type": "display_data"
    },
    {
     "data": {
      "image/png": "[encoded data removed]",
      "text/plain": [
       "<Figure size 432x288 with 1 Axes>"
      ]
     },
     "metadata": {
      "needs_background": "light"
     },
     "output_type": "display_data"
    },
    {
     "data": {
      "text/plain": [
       "<Figure size 432x288 with 0 Axes>"
      ]
     },
     "metadata": {},
     "output_type": "display_data"
    }
   ],
   "source": [
    "#analysis of numerical variables\n",
    "for feature in df.columns:\n",
    "    if df[feature].dtypes != \"object\" and feature!=\"Depression\": \n",
    "        #alternative: include=[\"int64\", \"float64\"]\n",
    "        df[feature].plot(kind=\"box\", color=\"green\", showfliers=True);\n",
    "        plt.title(f\"Boxplot of {feature}\");\n",
    "        plt.savefig(f'Boxplot_{feature}.png'); #\n",
    "        plt.show();\n",
    "        plt.tight_layout();"
   ]
  },
  {
   "cell_type": "markdown",
   "metadata": {},
   "source": [
    "#### Histograms"
   ]
  },
  {
   "cell_type": "code",
   "execution_count": 17,
   "metadata": {
    "scrolled": true
   },
   "outputs": [
    {
     "data": {
      "image/png": "[encoded data removed]",
      "text/plain": [
       "<Figure size 720x576 with 9 Axes>"
      ]
     },
     "metadata": {
      "needs_background": "light"
     },
     "output_type": "display_data"
    }
   ],
   "source": [
    "df.hist(figsize=(10,8), edgecolor=\"black\", color=\"g\", bins=20, grid=False)\n",
    "plt.tight_layout()\n",
    "plt.savefig(\"histogram.png\", dpi=300, bbox_inches=\"tight\")\n",
    "plt.show()"
   ]
  },
  {
   "cell_type": "code",
   "execution_count": 18,
   "metadata": {},
   "outputs": [
    {
     "data": {
      "image/png": "[encoded data removed]",
      "text/plain": [
       "<Figure size 576x720 with 2 Axes>"
      ]
     },
     "metadata": {
      "needs_background": "light"
     },
     "output_type": "display_data"
    }
   ],
   "source": [
    "axes = df.plot(sharex=True, kind=\"hist\", column=\"Depression\", by=\"Family History\", edgecolor=\"black\", lw=1, grid=False, figsize=(8,10));\n",
    "for ax in axes.flat:\n",
    "    ax.title.set_fontsize(12)\n",
    "plt.savefig(\"histogram Depression by Family History.png\", dpi=300, bbox_inches=\"tight\")\n",
    "plt.show()"
   ]
  },
  {
   "cell_type": "markdown",
   "metadata": {},
   "source": [
    "#### Depressed students"
   ]
  },
  {
   "cell_type": "code",
   "execution_count": 19,
   "metadata": {
    "scrolled": true
   },
   "outputs": [
    {
     "data": {
      "text/plain": [
       "'Depressed students amount to 0.59 of the total'"
      ]
     },
     "execution_count": 19,
     "metadata": {},
     "output_type": "execute_result"
    }
   ],
   "source": [
    "f'Depressed students amount to {round(df[\"Depression\"].value_counts(normalize=True)[1],2)} of the total'"
   ]
  },
  {
   "cell_type": "code",
   "execution_count": 20,
   "metadata": {
    "scrolled": true
   },
   "outputs": [
    {
     "data": {
      "text/html": [
       "<div>\n",
       "<style scoped>\n",
       "    .dataframe tbody tr th:only-of-type {\n",
       "        vertical-align: middle;\n",
       "    }\n",
       "\n",
       "    .dataframe tbody tr th {\n",
       "        vertical-align: top;\n",
       "    }\n",
       "\n",
       "    .dataframe thead th {\n",
       "        text-align: right;\n",
       "    }\n",
       "</style>\n",
       "<table border=\"1\" class=\"dataframe\">\n",
       "  <thead>\n",
       "    <tr style=\"text-align: right;\">\n",
       "      <th></th>\n",
       "      <th>Gender</th>\n",
       "      <th>Age</th>\n",
       "      <th>City</th>\n",
       "      <th>Academic Pressure</th>\n",
       "      <th>CGPA</th>\n",
       "      <th>Study Satisfaction</th>\n",
       "      <th>Sleep Duration</th>\n",
       "      <th>Dietary Habits</th>\n",
       "      <th>Degree</th>\n",
       "      <th>Suicidal Thoughts</th>\n",
       "      <th>Work_study_hours</th>\n",
       "      <th>Financial Stress</th>\n",
       "      <th>Family History</th>\n",
       "      <th>Depression</th>\n",
       "    </tr>\n",
       "    <tr>\n",
       "      <th>id</th>\n",
       "      <th></th>\n",
       "      <th></th>\n",
       "      <th></th>\n",
       "      <th></th>\n",
       "      <th></th>\n",
       "      <th></th>\n",
       "      <th></th>\n",
       "      <th></th>\n",
       "      <th></th>\n",
       "      <th></th>\n",
       "      <th></th>\n",
       "      <th></th>\n",
       "      <th></th>\n",
       "      <th></th>\n",
       "    </tr>\n",
       "  </thead>\n",
       "  <tbody>\n",
       "    <tr>\n",
       "      <th>2</th>\n",
       "      <td>Male</td>\n",
       "      <td>33</td>\n",
       "      <td>Visakhapatnam</td>\n",
       "      <td>5.0</td>\n",
       "      <td>8.97</td>\n",
       "      <td>2.0</td>\n",
       "      <td>5-6 hours</td>\n",
       "      <td>Healthy</td>\n",
       "      <td>B.Pharm</td>\n",
       "      <td>Yes</td>\n",
       "      <td>3.0</td>\n",
       "      <td>1.0</td>\n",
       "      <td>No</td>\n",
       "      <td>1</td>\n",
       "    </tr>\n",
       "    <tr>\n",
       "      <th>8</th>\n",
       "      <td>Female</td>\n",
       "      <td>24</td>\n",
       "      <td>Bangalore</td>\n",
       "      <td>2.0</td>\n",
       "      <td>5.90</td>\n",
       "      <td>5.0</td>\n",
       "      <td>5-6 hours</td>\n",
       "      <td>Moderate</td>\n",
       "      <td>BSc</td>\n",
       "      <td>No</td>\n",
       "      <td>3.0</td>\n",
       "      <td>2.0</td>\n",
       "      <td>Yes</td>\n",
       "      <td>0</td>\n",
       "    </tr>\n",
       "    <tr>\n",
       "      <th>26</th>\n",
       "      <td>Male</td>\n",
       "      <td>31</td>\n",
       "      <td>Srinagar</td>\n",
       "      <td>3.0</td>\n",
       "      <td>7.03</td>\n",
       "      <td>5.0</td>\n",
       "      <td>Less than 5 hours</td>\n",
       "      <td>Healthy</td>\n",
       "      <td>BA</td>\n",
       "      <td>No</td>\n",
       "      <td>9.0</td>\n",
       "      <td>1.0</td>\n",
       "      <td>Yes</td>\n",
       "      <td>0</td>\n",
       "    </tr>\n",
       "    <tr>\n",
       "      <th>30</th>\n",
       "      <td>Female</td>\n",
       "      <td>28</td>\n",
       "      <td>Varanasi</td>\n",
       "      <td>3.0</td>\n",
       "      <td>5.59</td>\n",
       "      <td>2.0</td>\n",
       "      <td>7-8 hours</td>\n",
       "      <td>Moderate</td>\n",
       "      <td>BCA</td>\n",
       "      <td>Yes</td>\n",
       "      <td>4.0</td>\n",
       "      <td>5.0</td>\n",
       "      <td>Yes</td>\n",
       "      <td>1</td>\n",
       "    </tr>\n",
       "    <tr>\n",
       "      <th>32</th>\n",
       "      <td>Female</td>\n",
       "      <td>25</td>\n",
       "      <td>Jaipur</td>\n",
       "      <td>4.0</td>\n",
       "      <td>8.13</td>\n",
       "      <td>3.0</td>\n",
       "      <td>5-6 hours</td>\n",
       "      <td>Moderate</td>\n",
       "      <td>M.Tech</td>\n",
       "      <td>Yes</td>\n",
       "      <td>1.0</td>\n",
       "      <td>1.0</td>\n",
       "      <td>No</td>\n",
       "      <td>0</td>\n",
       "    </tr>\n",
       "  </tbody>\n",
       "</table>\n",
       "</div>"
      ],
      "text/plain": [
       "    Gender  Age           City  Academic Pressure  CGPA  Study Satisfaction  \\\n",
       "id                                                                            \n",
       "2     Male   33  Visakhapatnam                5.0  8.97                 2.0   \n",
       "8   Female   24      Bangalore                2.0  5.90                 5.0   \n",
       "26    Male   31       Srinagar                3.0  7.03                 5.0   \n",
       "30  Female   28       Varanasi                3.0  5.59                 2.0   \n",
       "32  Female   25         Jaipur                4.0  8.13                 3.0   \n",
       "\n",
       "       Sleep Duration Dietary Habits   Degree Suicidal Thoughts  \\\n",
       "id                                                                \n",
       "2           5-6 hours        Healthy  B.Pharm               Yes   \n",
       "8           5-6 hours       Moderate      BSc                No   \n",
       "26  Less than 5 hours        Healthy       BA                No   \n",
       "30          7-8 hours       Moderate      BCA               Yes   \n",
       "32          5-6 hours       Moderate   M.Tech               Yes   \n",
       "\n",
       "    Work_study_hours  Financial Stress Family History  Depression  \n",
       "id                                                                 \n",
       "2                3.0               1.0             No           1  \n",
       "8                3.0               2.0            Yes           0  \n",
       "26               9.0               1.0            Yes           0  \n",
       "30               4.0               5.0            Yes           1  \n",
       "32               1.0               1.0             No           0  "
      ]
     },
     "execution_count": 20,
     "metadata": {},
     "output_type": "execute_result"
    }
   ],
   "source": [
    "df.head()"
   ]
  },
  {
   "cell_type": "code",
   "execution_count": 21,
   "metadata": {
    "scrolled": true
   },
   "outputs": [
    {
     "data": {
      "text/plain": [
       "Index(['Gender', 'Age', 'City', 'Academic Pressure', 'CGPA',\n",
       "       'Study Satisfaction', 'Sleep Duration', 'Dietary Habits', 'Degree',\n",
       "       'Suicidal Thoughts', 'Work_study_hours', 'Financial Stress',\n",
       "       'Family History', 'Depression'],\n",
       "      dtype='object')"
      ]
     },
     "execution_count": 21,
     "metadata": {},
     "output_type": "execute_result"
    }
   ],
   "source": [
    "df.columns"
   ]
  },
  {
   "cell_type": "markdown",
   "metadata": {},
   "source": [
    "## Exploratory Data Analysis"
   ]
  },
  {
   "cell_type": "markdown",
   "metadata": {},
   "source": [
    "I conduct exploratory data analysis of the following 13 features, in relation to depression: **Gender, Age, City, Academic Pressure, CGPA, Study Satisfaction, Sleep Duration, Dietary Habits, Degree, Suicidal Thoughts, Work/Study Hours, Financial Stress, Family History**."
   ]
  },
  {
   "cell_type": "markdown",
   "metadata": {},
   "source": [
    "#### 0 - Statistical Relationship between Features"
   ]
  },
  {
   "cell_type": "code",
   "execution_count": 22,
   "metadata": {
    "scrolled": true
   },
   "outputs": [
    {
     "data": {
      "image/png": "[encoded data removed]",
      "text/plain": [
       "<Figure size 720x576 with 2 Axes>"
      ]
     },
     "metadata": {
      "needs_background": "light"
     },
     "output_type": "display_data"
    }
   ],
   "source": [
    "num_var=[index for index,value in df.dtypes.items() if value!=\"object\"]\n",
    "plt.figure(figsize=(10, 8));\n",
    "ax=sns.heatmap(df[num_var].corr(), vmin=-1, vmax=+1, linecolor=\"black\", annot=True, cmap=\"coolwarm\", cbar=True);\n",
    "ax.set_title(\"Correlation Matrix\", fontsize=15);\n",
    "plt.savefig(\"Correlation Matrix\", dpi=300, bbox_inches=\"tight\");\n",
    "plt.show()\n",
    "\n",
    "#alternative 1: sns.heatmap(df.select_dtypes(include=\"number\").corr(),...)\n",
    "#alternative 2: pd.plotting.scatter_matrix(df, figsize=(20, 15)), to visualise histograms and scatter plots."
   ]
  },
  {
   "cell_type": "markdown",
   "metadata": {},
   "source": [
    "The plot shows that there exists a relatively high positive correlation between: *Work Pressure and Job Satisfaction*, *academic pressure and depression* and *study hours and depression*. At the same time, there exists a negative correlation, yet lower compared to the positive one, between *depression and age*, and *depression and study satisfaction*."
   ]
  },
  {
   "cell_type": "markdown",
   "metadata": {},
   "source": [
    "#### 1 - Gender"
   ]
  },
  {
   "cell_type": "code",
   "execution_count": 56,
   "metadata": {
    "scrolled": true
   },
   "outputs": [],
   "source": [
    "df[\"Gender\"].value_counts(normalize=True)\n",
    "depressed_students=df.groupby([\"Gender\"])[\"Depression\"].sum()\n",
    "total_depressed_students=depressed_students.sum()"
   ]
  },
  {
   "cell_type": "code",
   "execution_count": 24,
   "metadata": {},
   "outputs": [
    {
     "name": "stdout",
     "output_type": "stream",
     "text": [
      "The % of depression among female students is 0.44\n",
      "The % of depression among male students is 0.56\n"
     ]
    }
   ],
   "source": [
    "stud_depression=df[\"Depression\"].value_counts()[1]\n",
    "print(f'The % of depression among female students is {round(depressed_students[0]/stud_depression,2)}')\n",
    "print(f'The % of depression among male students is {round(depressed_students[1]/stud_depression,2)}')"
   ]
  },
  {
   "cell_type": "code",
   "execution_count": 25,
   "metadata": {},
   "outputs": [
    {
     "data": {
      "image/png": "[encoded data removed]",
      "text/plain": [
       "<Figure size 576x432 with 1 Axes>"
      ]
     },
     "metadata": {
      "needs_background": "light"
     },
     "output_type": "display_data"
    }
   ],
   "source": [
    "ax = (depressed_students/total_depressed_students).plot(kind=\"bar\", figsize=(8,6), fontsize=12, color=[\"pink\",\"cyan\"], lw=2, edgecolor=\"black\", rot=0)\n",
    "\n",
    "for bar in ax.patches: #ax.patches is a list of all rectangular shapes (bars) and each bar is a rectangle object\n",
    "    height = bar.get_height() #this gets the height of the bar\n",
    "    ax.text( #this gets the actual number as a label on the bar\n",
    "        bar.get_x() + bar.get_width() / 2, #this finds the horizontal center of the bar\n",
    "        height,\n",
    "        f'{height:.2f}',#this creates the text string that will be shown\n",
    "        ha='center', #horizontal alignment = center\n",
    "        va='bottom', #vertical alignment = \"bottom\" means aligning the bottom of the text to the y-position so it sits on top of the bar.\n",
    "        fontsize=12\n",
    "    )\n",
    "ax.set_title(\"Percentage of male and female depressed students\", fontsize=(15))\n",
    "plt.savefig(\"Percentage of male and female depressed students\", dpi=300, bbox_inches=\"tight\")\n",
    "plt.show()"
   ]
  },
  {
   "cell_type": "markdown",
   "metadata": {},
   "source": [
    "#### 2 - Age"
   ]
  },
  {
   "cell_type": "code",
   "execution_count": 26,
   "metadata": {
    "scrolled": false
   },
   "outputs": [
    {
     "data": {
      "text/plain": [
       "Age\n",
       "18    1587\n",
       "19    1560\n",
       "20    2237\n",
       "21    1726\n",
       "22    1160\n",
       "23    1645\n",
       "24    2258\n",
       "25    1784\n",
       "26    1155\n",
       "27    1462\n",
       "28    2133\n",
       "29    1950\n",
       "30    1145\n",
       "31    1427\n",
       "32    1262\n",
       "33    1893\n",
       "34    1468\n",
       "35      10\n",
       "36       7\n",
       "37       2\n",
       "38       8\n",
       "39       3\n",
       "41       1\n",
       "42       4\n",
       "43       2\n",
       "44       1\n",
       "46       2\n",
       "48       3\n",
       "49       1\n",
       "51       1\n",
       "54       1\n",
       "56       1\n",
       "58       1\n",
       "59       1\n",
       "Name: count, dtype: int64"
      ]
     },
     "execution_count": 26,
     "metadata": {},
     "output_type": "execute_result"
    }
   ],
   "source": [
    "df[\"Age\"].value_counts().sort_index()"
   ]
  },
  {
   "cell_type": "code",
   "execution_count": 27,
   "metadata": {
    "scrolled": true
   },
   "outputs": [],
   "source": [
    "#I am only focusing on range 18-34, where the largest share of people lies\n",
    "age_depression_gender_18_34=df.pivot_table(values=\"Depression\", index=\"Age\", columns=\"Gender\", aggfunc=\"sum\").sort_index().loc[18:34]\n",
    "age_depression_gender_35_on=df.pivot_table(values=\"Depression\", index=\"Age\", columns=\"Gender\", aggfunc=\"sum\").sort_index().loc[35:59].sum(axis=0)\n",
    "age_depression_gender_35_on_t=pd.DataFrame(age_depression_gender_35_on).T\n",
    "age_depression_gender_35_on_t.index=[\"35-59\"]\n",
    "concat_depression_gender=pd.concat([age_depression_gender_18_34,age_depression_gender_35_on_t])"
   ]
  },
  {
   "cell_type": "code",
   "execution_count": 28,
   "metadata": {
    "scrolled": true
   },
   "outputs": [
    {
     "data": {
      "image/png": "[encoded data removed]",
      "text/plain": [
       "<Figure size 720x504 with 1 Axes>"
      ]
     },
     "metadata": {
      "needs_background": "light"
     },
     "output_type": "display_data"
    }
   ],
   "source": [
    "ax = concat_depression_gender.plot(kind=\"bar\", color=[\"pink\", \"cyan\"], figsize=(10, 7), rot=0, fontsize=11)\n",
    "ax.set_title(\"Age and Depression, by gender\", fontsize=15)\n",
    "ax.legend(fontsize=15)\n",
    "ax.set_xlabel(\"Age\", fontsize=15)\n",
    "plt.savefig(\"Age and Depression, by gender\", dpi=300, bbox_inches=\"tight\")\n",
    "plt.show()\n",
    "\n",
    "#the majority of depressed students are aged 20, 24 and 28."
   ]
  },
  {
   "cell_type": "markdown",
   "metadata": {},
   "source": [
    "#### 3 - City"
   ]
  },
  {
   "cell_type": "code",
   "execution_count": 29,
   "metadata": {},
   "outputs": [],
   "source": [
    "sum_depressed_students_10_cities=df.groupby([\"City\"])[\"Depression\"].sum().sort_values(ascending=False).head(10).sum(axis=0)"
   ]
  },
  {
   "cell_type": "code",
   "execution_count": 30,
   "metadata": {},
   "outputs": [],
   "source": [
    "city_dep=df.groupby([\"City\"])[\"Depression\"].sum().sort_values(ascending=False).head(10)/sum_depressed_students_10_cities\n",
    "city_dep.sort_values(ascending=False, inplace=True)"
   ]
  },
  {
   "cell_type": "code",
   "execution_count": 31,
   "metadata": {},
   "outputs": [],
   "source": [
    "#I want to compare the cities' populations with the incidence of depressed students. From a search online:\n",
    "city_populations_2025 = {\n",
    "    \"Kalyan\": 1820000,\n",
    "    \"Hyderabad\": 11340000,\n",
    "    \"Srinagar\": 1780000,\n",
    "    \"Vasai-Virar\": 1790000,\n",
    "    \"Thane\": 2690000,\n",
    "    \"Kolkata\": 15850000,\n",
    "    \"Ludhiana\": 2030000,\n",
    "    \"Lucknow\": 4130000,\n",
    "    \"Ahmedabad\": 9061820,\n",
    "    \"Patna\": 2689540\n",
    "}"
   ]
  },
  {
   "cell_type": "code",
   "execution_count": 32,
   "metadata": {},
   "outputs": [],
   "source": [
    "city_pop = (pd.Series(city_populations_2025)/sum(city_populations_2025.values())).sort_values(ascending=False)"
   ]
  },
  {
   "cell_type": "code",
   "execution_count": 33,
   "metadata": {},
   "outputs": [
    {
     "data": {
      "text/html": [
       "<div>\n",
       "<style scoped>\n",
       "    .dataframe tbody tr th:only-of-type {\n",
       "        vertical-align: middle;\n",
       "    }\n",
       "\n",
       "    .dataframe tbody tr th {\n",
       "        vertical-align: top;\n",
       "    }\n",
       "\n",
       "    .dataframe thead th {\n",
       "        text-align: right;\n",
       "    }\n",
       "</style>\n",
       "<table border=\"1\" class=\"dataframe\">\n",
       "  <thead>\n",
       "    <tr style=\"text-align: right;\">\n",
       "      <th></th>\n",
       "      <th>Depression</th>\n",
       "      <th>Population</th>\n",
       "    </tr>\n",
       "  </thead>\n",
       "  <tbody>\n",
       "    <tr>\n",
       "      <th>Kalyan</th>\n",
       "      <td>0.129381</td>\n",
       "      <td>0.034223</td>\n",
       "    </tr>\n",
       "    <tr>\n",
       "      <th>Hyderabad</th>\n",
       "      <td>0.124255</td>\n",
       "      <td>0.213233</td>\n",
       "    </tr>\n",
       "    <tr>\n",
       "      <th>Srinagar</th>\n",
       "      <td>0.105693</td>\n",
       "      <td>0.033470</td>\n",
       "    </tr>\n",
       "    <tr>\n",
       "      <th>Vasai-Virar</th>\n",
       "      <td>0.102369</td>\n",
       "      <td>0.033658</td>\n",
       "    </tr>\n",
       "    <tr>\n",
       "      <th>Thane</th>\n",
       "      <td>0.093226</td>\n",
       "      <td>0.050582</td>\n",
       "    </tr>\n",
       "    <tr>\n",
       "      <th>Kolkata</th>\n",
       "      <td>0.089902</td>\n",
       "      <td>0.298037</td>\n",
       "    </tr>\n",
       "    <tr>\n",
       "      <th>Ludhiana</th>\n",
       "      <td>0.089625</td>\n",
       "      <td>0.038171</td>\n",
       "    </tr>\n",
       "    <tr>\n",
       "      <th>Lucknow</th>\n",
       "      <td>0.088793</td>\n",
       "      <td>0.077659</td>\n",
       "    </tr>\n",
       "    <tr>\n",
       "      <th>Ahmedabad</th>\n",
       "      <td>0.088655</td>\n",
       "      <td>0.170395</td>\n",
       "    </tr>\n",
       "    <tr>\n",
       "      <th>Patna</th>\n",
       "      <td>0.088101</td>\n",
       "      <td>0.050573</td>\n",
       "    </tr>\n",
       "  </tbody>\n",
       "</table>\n",
       "</div>"
      ],
      "text/plain": [
       "             Depression  Population\n",
       "Kalyan         0.129381    0.034223\n",
       "Hyderabad      0.124255    0.213233\n",
       "Srinagar       0.105693    0.033470\n",
       "Vasai-Virar    0.102369    0.033658\n",
       "Thane          0.093226    0.050582\n",
       "Kolkata        0.089902    0.298037\n",
       "Ludhiana       0.089625    0.038171\n",
       "Lucknow        0.088793    0.077659\n",
       "Ahmedabad      0.088655    0.170395\n",
       "Patna          0.088101    0.050573"
      ]
     },
     "execution_count": 33,
     "metadata": {},
     "output_type": "execute_result"
    }
   ],
   "source": [
    "concat=pd.concat([city_dep, city_pop], axis=1)\n",
    "concat.columns=[\"Depression\",\"Population\"]\n",
    "concat"
   ]
  },
  {
   "cell_type": "code",
   "execution_count": 34,
   "metadata": {},
   "outputs": [
    {
     "data": {
      "image/png": "[encoded data removed]",
      "text/plain": [
       "<Figure size 432x288 with 1 Axes>"
      ]
     },
     "metadata": {
      "needs_background": "light"
     },
     "output_type": "display_data"
    }
   ],
   "source": [
    "concat[\"Depression\"].plot(kind=\"bar\", rot=45, xlabel=\"Cities\", ylim=(0.00,0.32));\n",
    "concat[\"Population\"].plot(style=\"vr\", rot=45, lw=20, ylabel=\"Percentage\", ylim=(0.00,0.32));\n",
    "plt.title(\"% of depressed students (bar char) and population (red marker)\");\n",
    "plt.savefig(\"% of depressed students (bar char) and population (red marker)\", dpi=300, bbox_inches=\"tight\");\n",
    "plt.legend()\n",
    "plt.show();"
   ]
  },
  {
   "cell_type": "code",
   "execution_count": 35,
   "metadata": {},
   "outputs": [],
   "source": [
    "#Kalyan, Srinagar, Vasai-Virar, Thare, Ludhiana are particularly worrying, \n",
    "#as they have a much larger share of depressed students \n",
    "#compared to the share of inhabitants they have within this group of cities."
   ]
  },
  {
   "cell_type": "markdown",
   "metadata": {},
   "source": [
    "#### 4 - Academic Pressure"
   ]
  },
  {
   "cell_type": "code",
   "execution_count": 36,
   "metadata": {
    "scrolled": true
   },
   "outputs": [
    {
     "data": {
      "text/plain": [
       "Academic Pressure\n",
       "0.0       9\n",
       "1.0    4801\n",
       "2.0    4178\n",
       "3.0    7462\n",
       "4.0    5155\n",
       "5.0    6296\n",
       "Name: count, dtype: int64"
      ]
     },
     "execution_count": 36,
     "metadata": {},
     "output_type": "execute_result"
    }
   ],
   "source": [
    "df[\"Academic Pressure\"].value_counts().sort_index()"
   ]
  },
  {
   "cell_type": "code",
   "execution_count": 37,
   "metadata": {
    "scrolled": false
   },
   "outputs": [
    {
     "data": {
      "text/html": [
       "<div>\n",
       "<style scoped>\n",
       "    .dataframe tbody tr th:only-of-type {\n",
       "        vertical-align: middle;\n",
       "    }\n",
       "\n",
       "    .dataframe tbody tr th {\n",
       "        vertical-align: top;\n",
       "    }\n",
       "\n",
       "    .dataframe thead th {\n",
       "        text-align: right;\n",
       "    }\n",
       "</style>\n",
       "<table border=\"1\" class=\"dataframe\">\n",
       "  <thead>\n",
       "    <tr style=\"text-align: right;\">\n",
       "      <th>Depression</th>\n",
       "      <th>0</th>\n",
       "      <th>1</th>\n",
       "    </tr>\n",
       "    <tr>\n",
       "      <th>Academic Pressure</th>\n",
       "      <th></th>\n",
       "      <th></th>\n",
       "    </tr>\n",
       "  </thead>\n",
       "  <tbody>\n",
       "    <tr>\n",
       "      <th>0</th>\n",
       "      <td>0.000179</td>\n",
       "      <td>0.000143</td>\n",
       "    </tr>\n",
       "    <tr>\n",
       "      <th>1</th>\n",
       "      <td>0.138669</td>\n",
       "      <td>0.033404</td>\n",
       "    </tr>\n",
       "    <tr>\n",
       "      <th>2</th>\n",
       "      <td>0.093617</td>\n",
       "      <td>0.056127</td>\n",
       "    </tr>\n",
       "    <tr>\n",
       "      <th>3</th>\n",
       "      <td>0.106555</td>\n",
       "      <td>0.160890</td>\n",
       "    </tr>\n",
       "    <tr>\n",
       "      <th>4</th>\n",
       "      <td>0.044084</td>\n",
       "      <td>0.140676</td>\n",
       "    </tr>\n",
       "    <tr>\n",
       "      <th>5</th>\n",
       "      <td>0.031397</td>\n",
       "      <td>0.194258</td>\n",
       "    </tr>\n",
       "  </tbody>\n",
       "</table>\n",
       "</div>"
      ],
      "text/plain": [
       "Depression                0         1\n",
       "Academic Pressure                    \n",
       "0                  0.000179  0.000143\n",
       "1                  0.138669  0.033404\n",
       "2                  0.093617  0.056127\n",
       "3                  0.106555  0.160890\n",
       "4                  0.044084  0.140676\n",
       "5                  0.031397  0.194258"
      ]
     },
     "execution_count": 37,
     "metadata": {},
     "output_type": "execute_result"
    }
   ],
   "source": [
    "df[\"Academic Pressure\"] = pd.Categorical(df[\"Academic Pressure\"], categories=[0,1,2,3,4,5])\n",
    "acad_press_depression=pd.crosstab(df[\"Academic Pressure\"], df[\"Depression\"], margins=True)\n",
    "acad_press_depression=(acad_press_depression/acad_press_depression.loc[\"All\",\"All\"]).loc[[0,1,2,3,4,5],[0,1]]\n",
    "acad_press_depression"
   ]
  },
  {
   "cell_type": "code",
   "execution_count": 38,
   "metadata": {
    "scrolled": false
   },
   "outputs": [
    {
     "data": {
      "image/png": "[encoded data removed]",
      "text/plain": [
       "<Figure size 576x432 with 1 Axes>"
      ]
     },
     "metadata": {
      "needs_background": "light"
     },
     "output_type": "display_data"
    }
   ],
   "source": [
    "#depressed students with highest academic pressure are 20% of all students.\n",
    "ax = acad_press_depression.iloc[1:6].plot(kind=\"bar\", figsize=(8,6), rot=0) #academic pressure = 0 is inconsequential\n",
    "for bar in ax.patches: \n",
    "    height = bar.get_height()\n",
    "    ax.text(bar.get_x() + bar.get_width() / 2, height, f'{height:.2f}', ha='center', va='bottom', fontsize=10)\n",
    "ax.set_title(\"Depression and Academic Pressure\", fontsize=15)\n",
    "plt.savefig(\"Depression and Academic Pressure\", dpi=300, bbox_inches=\"tight\")\n",
    "plt.show()\n",
    "\n",
    "#academic pressure is higher for depressed people."
   ]
  },
  {
   "cell_type": "code",
   "execution_count": 39,
   "metadata": {
    "scrolled": false
   },
   "outputs": [
    {
     "data": {
      "image/png": "[encoded data removed]",
      "text/plain": [
       "<Figure size 432x288 with 1 Axes>"
      ]
     },
     "metadata": {
      "needs_background": "light"
     },
     "output_type": "display_data"
    }
   ],
   "source": [
    "ax=pd.crosstab(index=df[\"Academic Pressure\"], columns=[df[\"Depression\"], df[\"Gender\"]]).iloc[1:6].plot(kind=\"bar\", rot=0);\n",
    "ax.set_title(\"Depression and Academic Pressure, by gender\", fontsize=12);\n",
    "ax.set_ylabel(\"Frequency\");"
   ]
  },
  {
   "cell_type": "code",
   "execution_count": 40,
   "metadata": {
    "scrolled": true
   },
   "outputs": [
    {
     "data": {
      "text/html": [
       "<div>\n",
       "<style scoped>\n",
       "    .dataframe tbody tr th:only-of-type {\n",
       "        vertical-align: middle;\n",
       "    }\n",
       "\n",
       "    .dataframe tbody tr th {\n",
       "        vertical-align: top;\n",
       "    }\n",
       "\n",
       "    .dataframe thead tr th {\n",
       "        text-align: left;\n",
       "    }\n",
       "\n",
       "    .dataframe thead tr:last-of-type th {\n",
       "        text-align: right;\n",
       "    }\n",
       "</style>\n",
       "<table border=\"1\" class=\"dataframe\">\n",
       "  <thead>\n",
       "    <tr>\n",
       "      <th>Depression</th>\n",
       "      <th colspan=\"5\" halign=\"left\">0</th>\n",
       "      <th colspan=\"5\" halign=\"left\">1</th>\n",
       "    </tr>\n",
       "    <tr>\n",
       "      <th>Financial Stress</th>\n",
       "      <th>1.0</th>\n",
       "      <th>2.0</th>\n",
       "      <th>3.0</th>\n",
       "      <th>4.0</th>\n",
       "      <th>5.0</th>\n",
       "      <th>1.0</th>\n",
       "      <th>2.0</th>\n",
       "      <th>3.0</th>\n",
       "      <th>4.0</th>\n",
       "      <th>5.0</th>\n",
       "    </tr>\n",
       "    <tr>\n",
       "      <th>Academic Pressure</th>\n",
       "      <th></th>\n",
       "      <th></th>\n",
       "      <th></th>\n",
       "      <th></th>\n",
       "      <th></th>\n",
       "      <th></th>\n",
       "      <th></th>\n",
       "      <th></th>\n",
       "      <th></th>\n",
       "      <th></th>\n",
       "    </tr>\n",
       "  </thead>\n",
       "  <tbody>\n",
       "    <tr>\n",
       "      <th>1</th>\n",
       "      <td>1079</td>\n",
       "      <td>1034</td>\n",
       "      <td>743</td>\n",
       "      <td>597</td>\n",
       "      <td>416</td>\n",
       "      <td>84</td>\n",
       "      <td>122</td>\n",
       "      <td>185</td>\n",
       "      <td>232</td>\n",
       "      <td>309</td>\n",
       "    </tr>\n",
       "    <tr>\n",
       "      <th>2</th>\n",
       "      <td>830</td>\n",
       "      <td>596</td>\n",
       "      <td>470</td>\n",
       "      <td>412</td>\n",
       "      <td>304</td>\n",
       "      <td>146</td>\n",
       "      <td>158</td>\n",
       "      <td>296</td>\n",
       "      <td>387</td>\n",
       "      <td>579</td>\n",
       "    </tr>\n",
       "    <tr>\n",
       "      <th>3</th>\n",
       "      <td>944</td>\n",
       "      <td>685</td>\n",
       "      <td>566</td>\n",
       "      <td>447</td>\n",
       "      <td>331</td>\n",
       "      <td>443</td>\n",
       "      <td>505</td>\n",
       "      <td>822</td>\n",
       "      <td>1183</td>\n",
       "      <td>1536</td>\n",
       "    </tr>\n",
       "    <tr>\n",
       "      <th>4</th>\n",
       "      <td>378</td>\n",
       "      <td>339</td>\n",
       "      <td>197</td>\n",
       "      <td>197</td>\n",
       "      <td>119</td>\n",
       "      <td>414</td>\n",
       "      <td>621</td>\n",
       "      <td>705</td>\n",
       "      <td>984</td>\n",
       "      <td>1201</td>\n",
       "    </tr>\n",
       "    <tr>\n",
       "      <th>5</th>\n",
       "      <td>257</td>\n",
       "      <td>232</td>\n",
       "      <td>167</td>\n",
       "      <td>132</td>\n",
       "      <td>88</td>\n",
       "      <td>545</td>\n",
       "      <td>769</td>\n",
       "      <td>1071</td>\n",
       "      <td>1203</td>\n",
       "      <td>1832</td>\n",
       "    </tr>\n",
       "  </tbody>\n",
       "</table>\n",
       "</div>"
      ],
      "text/plain": [
       "Depression            0                         1                       \n",
       "Financial Stress    1.0   2.0  3.0  4.0  5.0  1.0  2.0   3.0   4.0   5.0\n",
       "Academic Pressure                                                       \n",
       "1                  1079  1034  743  597  416   84  122   185   232   309\n",
       "2                   830   596  470  412  304  146  158   296   387   579\n",
       "3                   944   685  566  447  331  443  505   822  1183  1536\n",
       "4                   378   339  197  197  119  414  621   705   984  1201\n",
       "5                   257   232  167  132   88  545  769  1071  1203  1832"
      ]
     },
     "execution_count": 40,
     "metadata": {},
     "output_type": "execute_result"
    }
   ],
   "source": [
    "#academic pressure and financial stress\n",
    "academ_press_fin_stress = pd.crosstab(index=df[\"Academic Pressure\"], columns=[df[\"Depression\"], df[\"Financial Stress\"]]).iloc[1:6]\n",
    "academ_press_fin_stress"
   ]
  },
  {
   "cell_type": "code",
   "execution_count": 41,
   "metadata": {},
   "outputs": [
    {
     "data": {
      "image/png": "[encoded data removed]",
      "text/plain": [
       "<Figure size 432x288 with 1 Axes>"
      ]
     },
     "metadata": {
      "needs_background": "light"
     },
     "output_type": "display_data"
    },
    {
     "data": {
      "image/png": "[encoded data removed]",
      "text/plain": [
       "<Figure size 432x288 with 1 Axes>"
      ]
     },
     "metadata": {
      "needs_background": "light"
     },
     "output_type": "display_data"
    }
   ],
   "source": [
    "styles = [\"-v\"] * 4 + [\":v\"]\n",
    "colors = [\"lightgrey\"] * 4 + [\"red\"]\n",
    "ax1=academ_press_fin_stress.iloc[:,0:5].plot(style=styles, color=colors);\n",
    "ax1.set_title(\"Acad press for non-depressed people through financial stress\");\n",
    "ax2=academ_press_fin_stress.iloc[:,5:11].plot(style=styles, color=colors);\n",
    "ax2.set_title(\"Acad press for depressed people through financial stress\");"
   ]
  },
  {
   "cell_type": "code",
   "execution_count": 42,
   "metadata": {},
   "outputs": [
    {
     "data": {
      "image/png": "[encoded data removed]",
      "text/plain": [
       "<Figure size 504x360 with 1 Axes>"
      ]
     },
     "metadata": {
      "needs_background": "light"
     },
     "output_type": "display_data"
    }
   ],
   "source": [
    "academ_press_fin_stress.iloc[:,[0,9]].plot(style=[\"vr\"], figsize=(7,5));"
   ]
  },
  {
   "cell_type": "markdown",
   "metadata": {},
   "source": [
    "#### 5 - CGPA"
   ]
  },
  {
   "cell_type": "code",
   "execution_count": 43,
   "metadata": {
    "scrolled": true
   },
   "outputs": [
    {
     "data": {
      "text/plain": [
       "count    27901.000000\n",
       "mean         7.656104\n",
       "std          1.470707\n",
       "min          0.000000\n",
       "25%          6.290000\n",
       "50%          7.770000\n",
       "75%          8.920000\n",
       "max         10.000000\n",
       "Name: CGPA, dtype: float64"
      ]
     },
     "execution_count": 43,
     "metadata": {},
     "output_type": "execute_result"
    }
   ],
   "source": [
    "df[\"CGPA\"].describe()"
   ]
  },
  {
   "cell_type": "code",
   "execution_count": 44,
   "metadata": {},
   "outputs": [
    {
     "data": {
      "text/plain": [
       "count    27901.00\n",
       "mean         7.66\n",
       "std          1.47\n",
       "min          0.00\n",
       "25%          6.29\n",
       "50%          7.77\n",
       "75%          8.92\n",
       "max         10.00\n",
       "Name: CGPA, dtype: float64"
      ]
     },
     "metadata": {},
     "output_type": "display_data"
    },
    {
     "data": {
      "text/html": [
       "<div>\n",
       "<style scoped>\n",
       "    .dataframe tbody tr th:only-of-type {\n",
       "        vertical-align: middle;\n",
       "    }\n",
       "\n",
       "    .dataframe tbody tr th {\n",
       "        vertical-align: top;\n",
       "    }\n",
       "\n",
       "    .dataframe thead th {\n",
       "        text-align: right;\n",
       "    }\n",
       "</style>\n",
       "<table border=\"1\" class=\"dataframe\">\n",
       "  <thead>\n",
       "    <tr style=\"text-align: right;\">\n",
       "      <th>Depression</th>\n",
       "      <th>0</th>\n",
       "      <th>1</th>\n",
       "    </tr>\n",
       "  </thead>\n",
       "  <tbody>\n",
       "    <tr>\n",
       "      <th>count</th>\n",
       "      <td>11565.00</td>\n",
       "      <td>16336.00</td>\n",
       "    </tr>\n",
       "    <tr>\n",
       "      <th>mean</th>\n",
       "      <td>7.62</td>\n",
       "      <td>7.68</td>\n",
       "    </tr>\n",
       "    <tr>\n",
       "      <th>std</th>\n",
       "      <td>1.49</td>\n",
       "      <td>1.45</td>\n",
       "    </tr>\n",
       "    <tr>\n",
       "      <th>min</th>\n",
       "      <td>0.00</td>\n",
       "      <td>0.00</td>\n",
       "    </tr>\n",
       "    <tr>\n",
       "      <th>25%</th>\n",
       "      <td>6.25</td>\n",
       "      <td>6.37</td>\n",
       "    </tr>\n",
       "    <tr>\n",
       "      <th>50%</th>\n",
       "      <td>7.64</td>\n",
       "      <td>7.85</td>\n",
       "    </tr>\n",
       "    <tr>\n",
       "      <th>75%</th>\n",
       "      <td>8.93</td>\n",
       "      <td>8.91</td>\n",
       "    </tr>\n",
       "    <tr>\n",
       "      <th>max</th>\n",
       "      <td>10.00</td>\n",
       "      <td>10.00</td>\n",
       "    </tr>\n",
       "  </tbody>\n",
       "</table>\n",
       "</div>"
      ],
      "text/plain": [
       "Depression         0         1\n",
       "count       11565.00  16336.00\n",
       "mean            7.62      7.68\n",
       "std             1.49      1.45\n",
       "min             0.00      0.00\n",
       "25%             6.25      6.37\n",
       "50%             7.64      7.85\n",
       "75%             8.93      8.91\n",
       "max            10.00     10.00"
      ]
     },
     "metadata": {},
     "output_type": "display_data"
    }
   ],
   "source": [
    "display(round(df[\"CGPA\"].describe(),2))\n",
    "display(round(df.groupby(\"Depression\")[\"CGPA\"].describe().T,2))\n",
    "#there doesn't seem to be statistically significant differences, \n",
    "#this makes sense since correlation of depression and CGPA is very low."
   ]
  },
  {
   "cell_type": "markdown",
   "metadata": {},
   "source": [
    "#### 6 - Study Satisfaction"
   ]
  },
  {
   "cell_type": "code",
   "execution_count": 45,
   "metadata": {
    "scrolled": true
   },
   "outputs": [
    {
     "data": {
      "image/png": "[encoded data removed]",
      "text/plain": [
       "<Figure size 432x288 with 1 Axes>"
      ]
     },
     "metadata": {
      "needs_background": "light"
     },
     "output_type": "display_data"
    }
   ],
   "source": [
    "df.groupby([\"Study Satisfaction\"])[\"Depression\"].value_counts().unstack().plot(kind=\"bar\", rot=0);\n",
    "#alternative: crosstab\n",
    "#obv, if I sum, only depression=1 gets counted in."
   ]
  },
  {
   "cell_type": "code",
   "execution_count": 46,
   "metadata": {},
   "outputs": [
    {
     "data": {
      "text/html": [
       "<div>\n",
       "<style scoped>\n",
       "    .dataframe tbody tr th:only-of-type {\n",
       "        vertical-align: middle;\n",
       "    }\n",
       "\n",
       "    .dataframe tbody tr th {\n",
       "        vertical-align: top;\n",
       "    }\n",
       "\n",
       "    .dataframe thead tr th {\n",
       "        text-align: left;\n",
       "    }\n",
       "\n",
       "    .dataframe thead tr:last-of-type th {\n",
       "        text-align: right;\n",
       "    }\n",
       "</style>\n",
       "<table border=\"1\" class=\"dataframe\">\n",
       "  <thead>\n",
       "    <tr>\n",
       "      <th></th>\n",
       "      <th>sum</th>\n",
       "    </tr>\n",
       "    <tr>\n",
       "      <th></th>\n",
       "      <th>Depression</th>\n",
       "    </tr>\n",
       "    <tr>\n",
       "      <th>Study Satisfaction</th>\n",
       "      <th></th>\n",
       "    </tr>\n",
       "  </thead>\n",
       "  <tbody>\n",
       "    <tr>\n",
       "      <th>0.0</th>\n",
       "      <td>6</td>\n",
       "    </tr>\n",
       "    <tr>\n",
       "      <th>1.0</th>\n",
       "      <td>3857</td>\n",
       "    </tr>\n",
       "    <tr>\n",
       "      <th>2.0</th>\n",
       "      <td>3768</td>\n",
       "    </tr>\n",
       "    <tr>\n",
       "      <th>3.0</th>\n",
       "      <td>3353</td>\n",
       "    </tr>\n",
       "    <tr>\n",
       "      <th>4.0</th>\n",
       "      <td>3264</td>\n",
       "    </tr>\n",
       "    <tr>\n",
       "      <th>5.0</th>\n",
       "      <td>2088</td>\n",
       "    </tr>\n",
       "  </tbody>\n",
       "</table>\n",
       "</div>"
      ],
      "text/plain": [
       "                          sum\n",
       "                   Depression\n",
       "Study Satisfaction           \n",
       "0.0                         6\n",
       "1.0                      3857\n",
       "2.0                      3768\n",
       "3.0                      3353\n",
       "4.0                      3264\n",
       "5.0                      2088"
      ]
     },
     "execution_count": 46,
     "metadata": {},
     "output_type": "execute_result"
    }
   ],
   "source": [
    "df.pivot_table(index=[\"Study Satisfaction\"], values=[\"Depression\"], aggfunc=[\"sum\"])"
   ]
  },
  {
   "cell_type": "code",
   "execution_count": 47,
   "metadata": {},
   "outputs": [
    {
     "data": {
      "text/plain": [
       "16336"
      ]
     },
     "execution_count": 47,
     "metadata": {},
     "output_type": "execute_result"
    }
   ],
   "source": [
    "# Obviously, given that it's \"sum\", only depression = 1 gets counted in. The sum is equal to the number of depressed students.\n",
    "df.groupby([\"Study Satisfaction\"])[\"Depression\"].sum().sum(axis=0)"
   ]
  },
  {
   "cell_type": "code",
   "execution_count": 48,
   "metadata": {},
   "outputs": [
    {
     "data": {
      "image/png": "[encoded data removed]",
      "text/plain": [
       "<Figure size 432x288 with 1 Axes>"
      ]
     },
     "metadata": {
      "needs_background": "light"
     },
     "output_type": "display_data"
    }
   ],
   "source": [
    "ax=df.groupby([\"Study Satisfaction\"])[\"Depression\"].sum().plot(kind=\"bar\");\n",
    "for bar in ax.patches: \n",
    "    height = bar.get_height()\n",
    "    ax.text(bar.get_x() + bar.get_width() / 2, height, f'{height:.2f}', ha='center', va='bottom', fontsize=15)\n",
    "ax.set_title(\"Study Satisfaction of Depressed Students\", fontsize=15);\n",
    "ax.set_xticklabels(ax.get_xticklabels(), rotation=0);\n",
    "plt.savefig(\"Study Satisfaction of Depressed Students\", dpi=300, bbox_inches=\"tight\")\n",
    "plt.show()"
   ]
  },
  {
   "cell_type": "code",
   "execution_count": 49,
   "metadata": {},
   "outputs": [
    {
     "data": {
      "text/html": [
       "<div>\n",
       "<style scoped>\n",
       "    .dataframe tbody tr th:only-of-type {\n",
       "        vertical-align: middle;\n",
       "    }\n",
       "\n",
       "    .dataframe tbody tr th {\n",
       "        vertical-align: top;\n",
       "    }\n",
       "\n",
       "    .dataframe thead th {\n",
       "        text-align: right;\n",
       "    }\n",
       "</style>\n",
       "<table border=\"1\" class=\"dataframe\">\n",
       "  <thead>\n",
       "    <tr style=\"text-align: right;\">\n",
       "      <th>Gender</th>\n",
       "      <th>Female</th>\n",
       "      <th>Male</th>\n",
       "    </tr>\n",
       "    <tr>\n",
       "      <th>Study Satisfaction</th>\n",
       "      <th></th>\n",
       "      <th></th>\n",
       "    </tr>\n",
       "  </thead>\n",
       "  <tbody>\n",
       "    <tr>\n",
       "      <th>1.0</th>\n",
       "      <td>0.098786</td>\n",
       "      <td>0.137724</td>\n",
       "    </tr>\n",
       "    <tr>\n",
       "      <th>2.0</th>\n",
       "      <td>0.102649</td>\n",
       "      <td>0.128403</td>\n",
       "    </tr>\n",
       "    <tr>\n",
       "      <th>3.0</th>\n",
       "      <td>0.090998</td>\n",
       "      <td>0.114606</td>\n",
       "    </tr>\n",
       "    <tr>\n",
       "      <th>4.0</th>\n",
       "      <td>0.088607</td>\n",
       "      <td>0.111540</td>\n",
       "    </tr>\n",
       "    <tr>\n",
       "      <th>5.0</th>\n",
       "      <td>0.061565</td>\n",
       "      <td>0.066470</td>\n",
       "    </tr>\n",
       "  </tbody>\n",
       "</table>\n",
       "</div>"
      ],
      "text/plain": [
       "Gender                Female      Male\n",
       "Study Satisfaction                    \n",
       "1.0                 0.098786  0.137724\n",
       "2.0                 0.102649  0.128403\n",
       "3.0                 0.090998  0.114606\n",
       "4.0                 0.088607  0.111540\n",
       "5.0                 0.061565  0.066470"
      ]
     },
     "execution_count": 49,
     "metadata": {},
     "output_type": "execute_result"
    }
   ],
   "source": [
    "pivot_table_ss=pd.pivot_table(df, values=\"Depression\", columns=\"Gender\", index=\"Study Satisfaction\", aggfunc=\"sum\", margins=True)/16308\n",
    "pivot_table_ss=pivot_table_ss.iloc[[1,2,3,4,5],[0,1]]\n",
    "pivot_table_ss"
   ]
  },
  {
   "cell_type": "code",
   "execution_count": 50,
   "metadata": {},
   "outputs": [
    {
     "data": {
      "image/png": "[encoded data removed]",
      "text/plain": [
       "<Figure size 576x432 with 1 Axes>"
      ]
     },
     "metadata": {
      "needs_background": "light"
     },
     "output_type": "display_data"
    }
   ],
   "source": [
    "ax=pivot_table_ss.plot(kind=\"bar\", color=[\"pink\",\"cyan\"], figsize=(8,6));\n",
    "ax.set_title(\"Study satisfaction in depressed female and male students\", fontsize=15);\n",
    "ax.set_xticklabels(ax.get_xticklabels(), rotation=0)\n",
    "\n",
    "for bar in ax.patches: \n",
    "    height = bar.get_height()\n",
    "    ax.text(bar.get_x() + bar.get_width() / 2, height, f'{height:.2f}', ha='center', va='bottom', fontsize=10)\n",
    "\n",
    "plt.savefig(\"Study satisfaction in depressed female and male students\", dpi=300, bbox_inches=\"tight\");"
   ]
  },
  {
   "cell_type": "code",
   "execution_count": 51,
   "metadata": {},
   "outputs": [
    {
     "data": {
      "text/html": [
       "<div>\n",
       "<style scoped>\n",
       "    .dataframe tbody tr th:only-of-type {\n",
       "        vertical-align: middle;\n",
       "    }\n",
       "\n",
       "    .dataframe tbody tr th {\n",
       "        vertical-align: top;\n",
       "    }\n",
       "\n",
       "    .dataframe thead th {\n",
       "        text-align: right;\n",
       "    }\n",
       "</style>\n",
       "<table border=\"1\" class=\"dataframe\">\n",
       "  <thead>\n",
       "    <tr style=\"text-align: right;\">\n",
       "      <th></th>\n",
       "      <th>Gender</th>\n",
       "      <th>Age</th>\n",
       "      <th>City</th>\n",
       "      <th>Academic Pressure</th>\n",
       "      <th>CGPA</th>\n",
       "      <th>Study Satisfaction</th>\n",
       "      <th>Sleep Duration</th>\n",
       "      <th>Dietary Habits</th>\n",
       "      <th>Degree</th>\n",
       "      <th>Suicidal Thoughts</th>\n",
       "      <th>Work_study_hours</th>\n",
       "      <th>Financial Stress</th>\n",
       "      <th>Family History</th>\n",
       "      <th>Depression</th>\n",
       "    </tr>\n",
       "    <tr>\n",
       "      <th>id</th>\n",
       "      <th></th>\n",
       "      <th></th>\n",
       "      <th></th>\n",
       "      <th></th>\n",
       "      <th></th>\n",
       "      <th></th>\n",
       "      <th></th>\n",
       "      <th></th>\n",
       "      <th></th>\n",
       "      <th></th>\n",
       "      <th></th>\n",
       "      <th></th>\n",
       "      <th></th>\n",
       "      <th></th>\n",
       "    </tr>\n",
       "  </thead>\n",
       "  <tbody>\n",
       "    <tr>\n",
       "      <th>8</th>\n",
       "      <td>Female</td>\n",
       "      <td>24</td>\n",
       "      <td>Bangalore</td>\n",
       "      <td>2</td>\n",
       "      <td>5.90</td>\n",
       "      <td>5.0</td>\n",
       "      <td>5-6 hours</td>\n",
       "      <td>Moderate</td>\n",
       "      <td>BSc</td>\n",
       "      <td>No</td>\n",
       "      <td>3.0</td>\n",
       "      <td>2.0</td>\n",
       "      <td>Yes</td>\n",
       "      <td>0</td>\n",
       "    </tr>\n",
       "    <tr>\n",
       "      <th>26</th>\n",
       "      <td>Male</td>\n",
       "      <td>31</td>\n",
       "      <td>Srinagar</td>\n",
       "      <td>3</td>\n",
       "      <td>7.03</td>\n",
       "      <td>5.0</td>\n",
       "      <td>Less than 5 hours</td>\n",
       "      <td>Healthy</td>\n",
       "      <td>BA</td>\n",
       "      <td>No</td>\n",
       "      <td>9.0</td>\n",
       "      <td>1.0</td>\n",
       "      <td>Yes</td>\n",
       "      <td>0</td>\n",
       "    </tr>\n",
       "    <tr>\n",
       "      <th>32</th>\n",
       "      <td>Female</td>\n",
       "      <td>25</td>\n",
       "      <td>Jaipur</td>\n",
       "      <td>4</td>\n",
       "      <td>8.13</td>\n",
       "      <td>3.0</td>\n",
       "      <td>5-6 hours</td>\n",
       "      <td>Moderate</td>\n",
       "      <td>M.Tech</td>\n",
       "      <td>Yes</td>\n",
       "      <td>1.0</td>\n",
       "      <td>1.0</td>\n",
       "      <td>No</td>\n",
       "      <td>0</td>\n",
       "    </tr>\n",
       "    <tr>\n",
       "      <th>33</th>\n",
       "      <td>Male</td>\n",
       "      <td>29</td>\n",
       "      <td>Pune</td>\n",
       "      <td>2</td>\n",
       "      <td>5.70</td>\n",
       "      <td>3.0</td>\n",
       "      <td>Less than 5 hours</td>\n",
       "      <td>Healthy</td>\n",
       "      <td>PhD</td>\n",
       "      <td>No</td>\n",
       "      <td>4.0</td>\n",
       "      <td>1.0</td>\n",
       "      <td>No</td>\n",
       "      <td>0</td>\n",
       "    </tr>\n",
       "    <tr>\n",
       "      <th>52</th>\n",
       "      <td>Male</td>\n",
       "      <td>30</td>\n",
       "      <td>Thane</td>\n",
       "      <td>3</td>\n",
       "      <td>9.54</td>\n",
       "      <td>4.0</td>\n",
       "      <td>7-8 hours</td>\n",
       "      <td>Healthy</td>\n",
       "      <td>BSc</td>\n",
       "      <td>No</td>\n",
       "      <td>1.0</td>\n",
       "      <td>2.0</td>\n",
       "      <td>No</td>\n",
       "      <td>0</td>\n",
       "    </tr>\n",
       "    <tr>\n",
       "      <th>...</th>\n",
       "      <td>...</td>\n",
       "      <td>...</td>\n",
       "      <td>...</td>\n",
       "      <td>...</td>\n",
       "      <td>...</td>\n",
       "      <td>...</td>\n",
       "      <td>...</td>\n",
       "      <td>...</td>\n",
       "      <td>...</td>\n",
       "      <td>...</td>\n",
       "      <td>...</td>\n",
       "      <td>...</td>\n",
       "      <td>...</td>\n",
       "      <td>...</td>\n",
       "    </tr>\n",
       "    <tr>\n",
       "      <th>140681</th>\n",
       "      <td>Male</td>\n",
       "      <td>23</td>\n",
       "      <td>Srinagar</td>\n",
       "      <td>3</td>\n",
       "      <td>6.00</td>\n",
       "      <td>2.0</td>\n",
       "      <td>More than 8 hours</td>\n",
       "      <td>Healthy</td>\n",
       "      <td>MBBS</td>\n",
       "      <td>Yes</td>\n",
       "      <td>12.0</td>\n",
       "      <td>4.0</td>\n",
       "      <td>No</td>\n",
       "      <td>0</td>\n",
       "    </tr>\n",
       "    <tr>\n",
       "      <th>140684</th>\n",
       "      <td>Male</td>\n",
       "      <td>31</td>\n",
       "      <td>Lucknow</td>\n",
       "      <td>2</td>\n",
       "      <td>7.27</td>\n",
       "      <td>5.0</td>\n",
       "      <td>7-8 hours</td>\n",
       "      <td>Moderate</td>\n",
       "      <td>B.Com</td>\n",
       "      <td>Yes</td>\n",
       "      <td>6.0</td>\n",
       "      <td>1.0</td>\n",
       "      <td>Yes</td>\n",
       "      <td>0</td>\n",
       "    </tr>\n",
       "    <tr>\n",
       "      <th>140685</th>\n",
       "      <td>Female</td>\n",
       "      <td>27</td>\n",
       "      <td>Surat</td>\n",
       "      <td>5</td>\n",
       "      <td>5.75</td>\n",
       "      <td>5.0</td>\n",
       "      <td>5-6 hours</td>\n",
       "      <td>Unhealthy</td>\n",
       "      <td>'Class 12'</td>\n",
       "      <td>Yes</td>\n",
       "      <td>7.0</td>\n",
       "      <td>1.0</td>\n",
       "      <td>Yes</td>\n",
       "      <td>0</td>\n",
       "    </tr>\n",
       "    <tr>\n",
       "      <th>140686</th>\n",
       "      <td>Male</td>\n",
       "      <td>27</td>\n",
       "      <td>Ludhiana</td>\n",
       "      <td>2</td>\n",
       "      <td>9.40</td>\n",
       "      <td>3.0</td>\n",
       "      <td>Less than 5 hours</td>\n",
       "      <td>Healthy</td>\n",
       "      <td>MSc</td>\n",
       "      <td>No</td>\n",
       "      <td>0.0</td>\n",
       "      <td>3.0</td>\n",
       "      <td>Yes</td>\n",
       "      <td>0</td>\n",
       "    </tr>\n",
       "    <tr>\n",
       "      <th>140689</th>\n",
       "      <td>Male</td>\n",
       "      <td>31</td>\n",
       "      <td>Faridabad</td>\n",
       "      <td>3</td>\n",
       "      <td>6.61</td>\n",
       "      <td>4.0</td>\n",
       "      <td>5-6 hours</td>\n",
       "      <td>Unhealthy</td>\n",
       "      <td>MD</td>\n",
       "      <td>No</td>\n",
       "      <td>12.0</td>\n",
       "      <td>2.0</td>\n",
       "      <td>No</td>\n",
       "      <td>0</td>\n",
       "    </tr>\n",
       "  </tbody>\n",
       "</table>\n",
       "<p>11565 rows × 14 columns</p>\n",
       "</div>"
      ],
      "text/plain": [
       "        Gender  Age       City Academic Pressure  CGPA  Study Satisfaction  \\\n",
       "id                                                                           \n",
       "8       Female   24  Bangalore                 2  5.90                 5.0   \n",
       "26        Male   31   Srinagar                 3  7.03                 5.0   \n",
       "32      Female   25     Jaipur                 4  8.13                 3.0   \n",
       "33        Male   29       Pune                 2  5.70                 3.0   \n",
       "52        Male   30      Thane                 3  9.54                 4.0   \n",
       "...        ...  ...        ...               ...   ...                 ...   \n",
       "140681    Male   23   Srinagar                 3  6.00                 2.0   \n",
       "140684    Male   31    Lucknow                 2  7.27                 5.0   \n",
       "140685  Female   27      Surat                 5  5.75                 5.0   \n",
       "140686    Male   27   Ludhiana                 2  9.40                 3.0   \n",
       "140689    Male   31  Faridabad                 3  6.61                 4.0   \n",
       "\n",
       "           Sleep Duration Dietary Habits      Degree Suicidal Thoughts  \\\n",
       "id                                                                       \n",
       "8               5-6 hours       Moderate         BSc                No   \n",
       "26      Less than 5 hours        Healthy          BA                No   \n",
       "32              5-6 hours       Moderate      M.Tech               Yes   \n",
       "33      Less than 5 hours        Healthy         PhD                No   \n",
       "52              7-8 hours        Healthy         BSc                No   \n",
       "...                   ...            ...         ...               ...   \n",
       "140681  More than 8 hours        Healthy        MBBS               Yes   \n",
       "140684          7-8 hours       Moderate       B.Com               Yes   \n",
       "140685          5-6 hours      Unhealthy  'Class 12'               Yes   \n",
       "140686  Less than 5 hours        Healthy         MSc                No   \n",
       "140689          5-6 hours      Unhealthy          MD                No   \n",
       "\n",
       "        Work_study_hours  Financial Stress Family History  Depression  \n",
       "id                                                                     \n",
       "8                    3.0               2.0            Yes           0  \n",
       "26                   9.0               1.0            Yes           0  \n",
       "32                   1.0               1.0             No           0  \n",
       "33                   4.0               1.0             No           0  \n",
       "52                   1.0               2.0             No           0  \n",
       "...                  ...               ...            ...         ...  \n",
       "140681              12.0               4.0             No           0  \n",
       "140684               6.0               1.0            Yes           0  \n",
       "140685               7.0               1.0            Yes           0  \n",
       "140686               0.0               3.0            Yes           0  \n",
       "140689              12.0               2.0             No           0  \n",
       "\n",
       "[11565 rows x 14 columns]"
      ]
     },
     "execution_count": 51,
     "metadata": {},
     "output_type": "execute_result"
    }
   ],
   "source": [
    "#doing the same analysis for the non-depressed students\n",
    "df_0=df[df[\"Depression\"]==0]\n",
    "df_0"
   ]
  },
  {
   "cell_type": "code",
   "execution_count": 52,
   "metadata": {},
   "outputs": [
    {
     "data": {
      "image/png": "[encoded data removed]",
      "text/plain": [
       "<Figure size 576x432 with 1 Axes>"
      ]
     },
     "metadata": {
      "needs_background": "light"
     },
     "output_type": "display_data"
    }
   ],
   "source": [
    "ax = (pd.crosstab(df_0[\"Study Satisfaction\"], df_0[\"Gender\"], margins=True)/11562).iloc[[1,2,3,4,5],[0,1]].plot(kind=\"bar\", color=[\"pink\",\"cyan\"], figsize=(8,6));\n",
    "plt.xticks(rotation=0);\n",
    "\n",
    "for bar in ax.patches: \n",
    "    height = bar.get_height()\n",
    "    ax.text(bar.get_x() + bar.get_width() / 2, height, f'{height:.2f}', ha='center', va='bottom', fontsize=10)\n",
    "    \n",
    "plt.savefig(\"Study satisfaction in non-depressed female and male students\", dpi=300, bbox_inches=\"tight\");"
   ]
  },
  {
   "cell_type": "code",
   "execution_count": 53,
   "metadata": {},
   "outputs": [],
   "source": [
    "pivot_table_ss=pd.pivot_table(df, values=\"Depression\", columns=\"Gender\", index=\"Study Satisfaction\", aggfunc=\"sum\", margins=True)/16308"
   ]
  },
  {
   "cell_type": "markdown",
   "metadata": {},
   "source": [
    "#### 7 - Sleep Duration"
   ]
  },
  {
   "cell_type": "code",
   "execution_count": 54,
   "metadata": {},
   "outputs": [
    {
     "data": {
      "image/png": "[encoded data removed]",
      "text/plain": [
       "<Figure size 432x1440 with 5 Axes>"
      ]
     },
     "metadata": {
      "needs_background": "light"
     },
     "output_type": "display_data"
    }
   ],
   "source": [
    "axes = df.plot(sharex=True, kind=\"hist\", column=\"Depression\", by=\"Sleep Duration\", edgecolor=\"black\", lw=1, grid=False, figsize=(6,20));\n",
    "for ax in axes.flat:\n",
    "    ax.title.set_fontsize(12)\n",
    "plt.savefig(\"histogram Depression by Sleep Duration.png\", dpi=300, bbox_inches=\"tight\")\n",
    "plt.show()"
   ]
  },
  {
   "cell_type": "code",
   "execution_count": 55,
   "metadata": {},
   "outputs": [
    {
     "data": {
      "text/html": [
       "<div>\n",
       "<style scoped>\n",
       "    .dataframe tbody tr th:only-of-type {\n",
       "        vertical-align: middle;\n",
       "    }\n",
       "\n",
       "    .dataframe tbody tr th {\n",
       "        vertical-align: top;\n",
       "    }\n",
       "\n",
       "    .dataframe thead th {\n",
       "        text-align: right;\n",
       "    }\n",
       "</style>\n",
       "<table border=\"1\" class=\"dataframe\">\n",
       "  <thead>\n",
       "    <tr style=\"text-align: right;\">\n",
       "      <th>Depression</th>\n",
       "      <th>0</th>\n",
       "      <th>1</th>\n",
       "    </tr>\n",
       "    <tr>\n",
       "      <th>Sleep Duration</th>\n",
       "      <th></th>\n",
       "      <th></th>\n",
       "    </tr>\n",
       "  </thead>\n",
       "  <tbody>\n",
       "    <tr>\n",
       "      <th>5-6 hours</th>\n",
       "      <td>2666</td>\n",
       "      <td>3517</td>\n",
       "    </tr>\n",
       "    <tr>\n",
       "      <th>7-8 hours</th>\n",
       "      <td>2975</td>\n",
       "      <td>4371</td>\n",
       "    </tr>\n",
       "    <tr>\n",
       "      <th>Less than 5 hours</th>\n",
       "      <td>2949</td>\n",
       "      <td>5361</td>\n",
       "    </tr>\n",
       "    <tr>\n",
       "      <th>More than 8 hours</th>\n",
       "      <td>2966</td>\n",
       "      <td>3078</td>\n",
       "    </tr>\n",
       "  </tbody>\n",
       "</table>\n",
       "</div>"
      ],
      "text/plain": [
       "Depression            0     1\n",
       "Sleep Duration               \n",
       "5-6 hours          2666  3517\n",
       "7-8 hours          2975  4371\n",
       "Less than 5 hours  2949  5361\n",
       "More than 8 hours  2966  3078"
      ]
     },
     "execution_count": 55,
     "metadata": {},
     "output_type": "execute_result"
    }
   ],
   "source": [
    "group = df.groupby([\"Sleep Duration\"])[\"Depression\"].value_counts().unstack(fill_value=0)\n",
    "group.drop([\"Others\"], inplace=True)\n",
    "group"
   ]
  },
  {
   "cell_type": "code",
   "execution_count": null,
   "metadata": {},
   "outputs": [],
   "source": [
    "group=group.loc[[\"Less than 5 hours\", \"5-6 hours\", \"7-8 hours\", \"More than 8 hours\"],:]\n",
    "group"
   ]
  },
  {
   "cell_type": "code",
   "execution_count": null,
   "metadata": {},
   "outputs": [],
   "source": [
    "ax=group.plot(kind=\"bar\", figsize=(10,6), colormap=\"viridis\")\n",
    "ax.set_xlabel(\"Sleep Duration\")\n",
    "ax.set_ylabel(\"Number of People\")\n",
    "ax.set_title(\"Depression Levels by Sleep Duration\")\n",
    "plt.legend(title=\"Depression\")\n",
    "plt.tight_layout()\n",
    "plt.show()"
   ]
  },
  {
   "cell_type": "code",
   "execution_count": null,
   "metadata": {},
   "outputs": [],
   "source": [
    "group.sum(axis=0)"
   ]
  },
  {
   "cell_type": "code",
   "execution_count": null,
   "metadata": {},
   "outputs": [],
   "source": [
    "df.loc[df[\"Sleep Duration\"]!=\"Others\",:].Depression.value_counts()"
   ]
  },
  {
   "cell_type": "markdown",
   "metadata": {},
   "source": [
    "#### 8 - Dietary Habits"
   ]
  },
  {
   "cell_type": "code",
   "execution_count": null,
   "metadata": {},
   "outputs": [],
   "source": [
    "axes = df.plot(sharex=True, kind=\"hist\", column=\"Depression\", by=\"Dietary Habits\", edgecolor=\"black\", lw=1, grid=False, figsize=(6,20));\n",
    "for ax in axes.flat:\n",
    "    ax.title.set_fontsize(12)\n",
    "plt.savefig(\"histogram Depression by Dietary Habits.png\", dpi=300, bbox_inches=\"tight\")\n",
    "plt.show()"
   ]
  },
  {
   "cell_type": "code",
   "execution_count": null,
   "metadata": {},
   "outputs": [],
   "source": [
    "df[\"Dietary Habits\"].value_counts(normalize=True)"
   ]
  },
  {
   "cell_type": "code",
   "execution_count": null,
   "metadata": {},
   "outputs": [],
   "source": [
    "df[\"Dietary Habits\"] = pd.Categorical(df[\"Dietary Habits\"], categories=[\"Healthy\", \"Moderate\", \"Unhealthy\"])\n",
    "crosstab_diet=pd.crosstab(df[\"Dietary Habits\"], df[\"Depression\"], margins=True)\n",
    "crosstab_diet=(crosstab_diet/crosstab_diet.loc[\"All\",\"All\"]).iloc[0:3,0:2]"
   ]
  },
  {
   "cell_type": "code",
   "execution_count": null,
   "metadata": {},
   "outputs": [],
   "source": [
    "ax=crosstab_diet.plot(kind=\"bar\", rot=0, fontsize=12);\n",
    "for bar in ax.patches: \n",
    "    height = bar.get_height()\n",
    "    ax.text(bar.get_x() + bar.get_width() / 2, height, f'{height:.2f}', ha='center', va='bottom', fontsize=10)\n",
    "ax.set_title(\"Dietary habits (categories)\", fontsize=12);\n",
    "ax.set_xlabel(\"categories\", fontsize=12);\n",
    "plt.savefig(\"Dietary habits (categories)\", dpi=300, bbox_inches=\"tight\")\n",
    "plt.tight_layout()\n",
    "plt.show()"
   ]
  },
  {
   "cell_type": "code",
   "execution_count": null,
   "metadata": {},
   "outputs": [],
   "source": [
    "pivot_diet=pd.pivot_table(df, values=\"Depression\", columns=\"Dietary Habits\" , index=\"Gender\", aggfunc=\"sum\", margins=True).T\n",
    "pivot_diet=(pivot_diet/pivot_diet.loc[\"All\",\"All\"]).iloc[0:3,0:2]\n",
    "pivot_diet"
   ]
  },
  {
   "cell_type": "code",
   "execution_count": null,
   "metadata": {},
   "outputs": [],
   "source": [
    "ax=pivot_diet.plot(kind=\"bar\", fontsize=12, color=[\"pink\", \"cyan\"], rot=0);\n",
    "for bar in ax.patches: \n",
    "    height = bar.get_height()\n",
    "    ax.text(bar.get_x() + bar.get_width() / 2, height, f'{height:.2f}', ha='center', va='bottom', fontsize=10)\n",
    "ax.set_title(\"Dietary habits for depressed students, by gender\", fontsize=12);\n",
    "ax.set_xlabel(\"Gender\", fontsize=12);\n",
    "plt.savefig(\"Dietary habits for depressed students, by gender\", dpi=300, bbox_inches=\"tight\")\n",
    "plt.tight_layout()\n",
    "plt.show()"
   ]
  },
  {
   "cell_type": "markdown",
   "metadata": {},
   "source": [
    "#### 9 - Degree"
   ]
  },
  {
   "cell_type": "code",
   "execution_count": null,
   "metadata": {
    "scrolled": true
   },
   "outputs": [],
   "source": [
    "#do people pursing certain degrees display higher levels of depression?\n",
    "crosstab_CGPA=pd.crosstab(df[\"Degree\"], df[\"Depression\"], margins=True).sort_values(by=[1],ascending=False)\n",
    "crosstab_CGPA_short = (crosstab_CGPA/crosstab_CGPA.loc[\"All\",\"All\"]).iloc[1:11,0:2]"
   ]
  },
  {
   "cell_type": "code",
   "execution_count": null,
   "metadata": {
    "scrolled": true
   },
   "outputs": [],
   "source": [
    "ax=(crosstab_CGPA_short*100).plot(kind=\"bar\", figsize=(10,5));\n",
    "for bar in ax.patches: \n",
    "    height = bar.get_height()\n",
    "    ax.text(bar.get_x() + bar.get_width() / 2, height, f'{height:.1f}', ha='center', va='bottom', fontsize=8)\n",
    "\n",
    "#15.4% of all depressed people in our dataset do not have a University degree.\n",
    "\n",
    "#class 12 = high school diploma"
   ]
  },
  {
   "cell_type": "code",
   "execution_count": null,
   "metadata": {},
   "outputs": [],
   "source": [
    "df_class12=df.loc[df[\"Degree\"]==\"'Class 12'\",:]\n",
    "crosstab = pd.crosstab(df_class12[\"Gender\"], df_class12[\"Depression\"])\n",
    "ax = crosstab.plot(kind=\"bar\", figsize=(8,6))\n",
    "\n",
    "for bar in ax.patches: \n",
    "    height = bar.get_height() \n",
    "    ax.text(bar.get_x() + bar.get_width() / 2, height, f'{int(height)}', ha='center', va='bottom',fontsize=10)\n",
    "\n",
    "plt.ylabel(\"Count\")\n",
    "plt.title(\"Depression by Gender\")\n",
    "plt.legend(title=\"Depression\")\n",
    "plt.tight_layout()\n",
    "plt.show()"
   ]
  },
  {
   "cell_type": "markdown",
   "metadata": {},
   "source": [
    "#### 10 - Suicidal Thoughts"
   ]
  },
  {
   "cell_type": "code",
   "execution_count": null,
   "metadata": {
    "scrolled": true
   },
   "outputs": [],
   "source": [
    "ax=df.groupby(\"Depression\")[\"Suicidal Thoughts\"].value_counts(normalize=True).unstack().plot(kind=\"bar\", figsize=(7,5), rot=0);\n",
    "for bar in ax.patches: \n",
    "    height = bar.get_height()\n",
    "    ax.text(bar.get_x() + bar.get_width() / 2, height, f'{height:.2f}', ha='center', va='bottom', fontsize=10)\n",
    "ax.set_title(\"Suicidal thoughts and Depression\")\n",
    "plt.savefig(\"Suicidal thoughts and Depression\", dpi=300, bbox_inches=\"tight\")\n",
    "#85% of depressed people have suicidal thoughts"
   ]
  },
  {
   "cell_type": "code",
   "execution_count": null,
   "metadata": {},
   "outputs": [],
   "source": [
    "ax=pd.crosstab(df[\"Work_study_hours\"], df[\"Suicidal Thoughts\"], normalize=True).plot(kind=\"bar\", rot=0, figsize=(12,5));\n",
    "ax.set_title(\"Work_study_hours and suicidal thoughts\");\n",
    "for bar in ax.patches: \n",
    "    height = bar.get_height()\n",
    "    ax.text(bar.get_x() + bar.get_width() / 2, height, f'{height:.2f}', ha='center', va='bottom', fontsize=12)\n",
    "plt.savefig(\"Suicidal thoughts and work_study_hours\", dpi=300, bbox_inches=\"tight\")\n",
    "\n",
    "#normalize=\"index\" only normalizes wrt work study hours"
   ]
  },
  {
   "cell_type": "markdown",
   "metadata": {},
   "source": [
    "#### 11 - Work/study hours"
   ]
  },
  {
   "cell_type": "code",
   "execution_count": null,
   "metadata": {},
   "outputs": [],
   "source": [
    "crosstab_study_depression=pd.crosstab(df_s[\"Study Hours\"], df_s[\"Depression\"])\n",
    "crosstab_study_depression"
   ]
  },
  {
   "cell_type": "code",
   "execution_count": null,
   "metadata": {},
   "outputs": [],
   "source": [
    "# the plot shows that the more depressed people tend to study longer hours (6+)\n",
    "crosstab_study_depression.plot(kind=\"bar\", stacked=True)"
   ]
  },
  {
   "cell_type": "code",
   "execution_count": null,
   "metadata": {},
   "outputs": [],
   "source": [
    "# depressed students tend to study longer hours. Most depressed students study 10,11,12 hours.\n",
    "pivot_depression_studyhours=df_s.pivot_table(values=\"Depression\", index=\"Study Hours\", columns=\"Gender\", aggfunc=\"sum\")\n",
    "more_than_10_hours = pivot_depression_studyhours.loc[[ 10.0, 11.0, 12.0],:].sum(axis=0)\n",
    "male_and_females_studying_more_than_10_hours=more_than_10_hours/pivot_depression_studyhours.sum(axis=0)\n",
    "print(f'Depressed female students studying more than 10 hours are {round(male_and_females_studying_more_than_10_hours[0],2)} of the total')\n",
    "print(f'Depressed male students studying more than 10 hours are {round(male_and_females_studying_more_than_10_hours[1],2)} of the total')"
   ]
  },
  {
   "cell_type": "code",
   "execution_count": null,
   "metadata": {},
   "outputs": [],
   "source": [
    "pivot_depression_studyhours.plot(kind=\"bar\");"
   ]
  },
  {
   "cell_type": "markdown",
   "metadata": {},
   "source": [
    "#### 12 - Financial Stress"
   ]
  },
  {
   "cell_type": "code",
   "execution_count": null,
   "metadata": {
    "scrolled": false
   },
   "outputs": [],
   "source": [
    "ax=df.groupby(\"Financial Stress\")[\"Depression\"].value_counts(normalize=True).unstack().plot(kind=\"bar\", rot=0);\n",
    "ax.set_title(\"Financial stress and depression\");\n",
    "plt.savefig(\"Financial stress and depression\", dpi=300, bbox_inches=\"tight\")"
   ]
  },
  {
   "cell_type": "markdown",
   "metadata": {},
   "source": [
    "#### 13 - Family History"
   ]
  },
  {
   "cell_type": "code",
   "execution_count": null,
   "metadata": {},
   "outputs": [],
   "source": [
    "# do people that have a family history of depression have a higher tendency to be depressed themselves?\n",
    "# there doesn't seem to be a strong relation here\n",
    "pd.crosstab(df[\"Family History\"], df[\"Depression\"]).plot(kind=\"bar\");"
   ]
  },
  {
   "cell_type": "code",
   "execution_count": null,
   "metadata": {},
   "outputs": [],
   "source": [
    "fig, axes = plt.subplots(3,3, figsize=(16,8))\n",
    "pd.crosstab(df[\"Family History\"], df[\"Academic Pressure\"]).plot(kind=\"bar\", ax=axes[0][0]);\n",
    "pd.crosstab(df[\"Family History\"], df[\"Depression\"]).plot(kind=\"bar\", ax=axes[0][1]);\n",
    "pd.crosstab(df[\"Family History\"], df[\"Gender\"]).plot(kind=\"bar\", ax=axes[0][2]);\n",
    "pd.crosstab(df[\"Family History\"], df[\"Sleep Duration\"]).plot(kind=\"bar\", ax=axes[1][0]);\n",
    "pd.crosstab(df[\"Family History\"], df[\"Dietary Habits\"]).plot(kind=\"bar\", ax=axes[1][1]);\n",
    "pd.crosstab(df[\"Family History\"], df[\"Suicidal Thoughts\"]).plot(kind=\"bar\", ax=axes[1][2]);\n",
    "pd.crosstab(df[\"Family History\"], df[\"Study Satisfaction\"]).plot(kind=\"bar\", ax=axes[2][0]);\n",
    "\n",
    "#there doesn't see to be any large differences between those that have a family history of depression and those that don't. "
   ]
  },
  {
   "cell_type": "code",
   "execution_count": null,
   "metadata": {},
   "outputs": [],
   "source": []
  }
 ],
 "metadata": {
  "kernelspec": {
   "display_name": "Python 3",
   "language": "python",
   "name": "python3"
  },
  "language_info": {
   "codemirror_mode": {
    "name": "ipython",
    "version": 3
   },
   "file_extension": ".py",
   "mimetype": "text/x-python",
   "name": "python",
   "nbconvert_exporter": "python",
   "pygments_lexer": "ipython3",
   "version": "3.8.3"
  }
 },
 "nbformat": 4,
 "nbformat_minor": 5
}
